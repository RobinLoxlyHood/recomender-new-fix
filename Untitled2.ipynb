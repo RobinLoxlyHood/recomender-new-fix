{
 "cells": [
  {
   "cell_type": "code",
   "execution_count": 1,
   "id": "8e67b8c9-2294-4d4c-8636-04084c7b7c5a",
   "metadata": {},
   "outputs": [],
   "source": [
    "import pandas as pd\n",
    "import numpy as np\n",
    "from function import *\n",
    "from datetime import datetime\n",
    "from RecommendationModel import RecommenderNet\n",
    "import warningsimport os\n",
    "import pymysql\n",
    "import mysql.connector\n",
    "import pandas as pd\n",
    "import numpy as np\n",
    "from datetime import date, timedelta\n",
    "import tensorflow as tf\n",
    "from tensorflow import keras\n",
    "from RecommendationModel import RecommenderNet\n",
    "warnings.filterwarnings('ignore')"
   ]
  },
  {
   "cell_type": "code",
   "execution_count": 2,
   "id": "788f3bb3-ed8f-4ab7-9500-4a66b8e7cd0c",
   "metadata": {
    "scrolled": true,
    "tags": []
   },
   "outputs": [],
   "source": [
    "ranting_fe=get_DataRating().copy()\n",
    "rating=ranting_fe[['kode_user','kode_wisata','rate_value']]\n",
    "rating.columns = [['id_user','id_wisata', 'rating']]\n",
    "rating.to_csv('Dataset/rating_fe.csv', index=False)\n",
    "        \n",
    "list_wisata=get_DataListWisata().copy()\n",
    "place=list_wisata[['id_wisata','wisata']]\n",
    "place.columns = ['id','place_name']\n",
    "place.to_csv('Dataset/list_wisata_db.csv', index=False)\n",
    "\n",
    "rating = pd.read_csv('Dataset/rating_fe.csv')\n",
    "place = pd.read_csv('Dataset/list_wisata_db.csv')\n",
    "df=rating.copy()\n",
    "#training(df)\n",
    "#testing"
   ]
  },
  {
   "cell_type": "code",
   "execution_count": 3,
   "id": "3185a3ec-0c89-4141-90dd-6064928f8de0",
   "metadata": {},
   "outputs": [],
   "source": [
    "ranting_fe.set_index(\"time\", inplace=True)\n",
    "#getdatetoday\n",
    "today = date.today()\n",
    "today=today.strftime('%Y-%m-%d')\n",
    "test=ranting_fe.loc[today]\n",
    "test=test.iloc[:, 1:2]\n",
    "test=test.reset_index(drop=True)\n",
    "test=test.kode_user.unique()"
   ]
  },
  {
   "cell_type": "code",
   "execution_count": 4,
   "id": "1ec40f5e-51ce-46ea-8105-5f9b75063f01",
   "metadata": {},
   "outputs": [
    {
     "name": "stdout",
     "output_type": "stream",
     "text": [
      "WARNING:tensorflow:Detecting that an object or model or tf.train.Checkpoint is being deleted with unrestored values. See the following logs for the specific values in question. To silence these warnings, use `status.expect_partial()`. See https://www.tensorflow.org/api_docs/python/tf/train/Checkpoint#restorefor details about the status object returned by the restore function.\n",
      "WARNING:tensorflow:Value in checkpoint could not be found in the restored object: (root).user_embedding.embeddings\n",
      "WARNING:tensorflow:Value in checkpoint could not be found in the restored object: (root).user_bias.embeddings\n",
      "WARNING:tensorflow:Value in checkpoint could not be found in the restored object: (root).places_embedding.embeddings\n",
      "WARNING:tensorflow:Value in checkpoint could not be found in the restored object: (root).places_bias.embeddings\n",
      "WARNING:tensorflow:Value in checkpoint could not be found in the restored object: (root).optimizer.iter\n",
      "WARNING:tensorflow:Value in checkpoint could not be found in the restored object: (root).optimizer.beta_1\n",
      "WARNING:tensorflow:Value in checkpoint could not be found in the restored object: (root).optimizer.beta_2\n",
      "WARNING:tensorflow:Value in checkpoint could not be found in the restored object: (root).optimizer.decay\n",
      "WARNING:tensorflow:Value in checkpoint could not be found in the restored object: (root).optimizer.learning_rate\n",
      "WARNING:tensorflow:Value in checkpoint could not be found in the restored object: (root).optimizer's state 'm' for (root).user_embedding.embeddings\n",
      "WARNING:tensorflow:Value in checkpoint could not be found in the restored object: (root).optimizer's state 'm' for (root).user_bias.embeddings\n",
      "WARNING:tensorflow:Value in checkpoint could not be found in the restored object: (root).optimizer's state 'm' for (root).places_embedding.embeddings\n",
      "WARNING:tensorflow:Value in checkpoint could not be found in the restored object: (root).optimizer's state 'm' for (root).places_bias.embeddings\n",
      "WARNING:tensorflow:Value in checkpoint could not be found in the restored object: (root).optimizer's state 'v' for (root).user_embedding.embeddings\n",
      "WARNING:tensorflow:Value in checkpoint could not be found in the restored object: (root).optimizer's state 'v' for (root).user_bias.embeddings\n",
      "WARNING:tensorflow:Value in checkpoint could not be found in the restored object: (root).optimizer's state 'v' for (root).places_embedding.embeddings\n",
      "WARNING:tensorflow:Value in checkpoint could not be found in the restored object: (root).optimizer's state 'v' for (root).places_bias.embeddings\n"
     ]
    },
    {
     "ename": "AttributeError",
     "evalue": "'NoneType' object has no attribute 'copy'",
     "output_type": "error",
     "traceback": [
      "\u001b[1;31m---------------------------------------------------------------------------\u001b[0m",
      "\u001b[1;31mAttributeError\u001b[0m                            Traceback (most recent call last)",
      "Cell \u001b[1;32mIn [4], line 6\u001b[0m\n\u001b[0;32m      4\u001b[0m place_df\u001b[38;5;241m=\u001b[39mplace\u001b[38;5;241m.\u001b[39mcopy()\n\u001b[0;32m      5\u001b[0m result\u001b[38;5;241m=\u001b[39mtesting(test, df, place_df)\n\u001b[1;32m----> 6\u001b[0m rp2\u001b[38;5;241m=\u001b[39m \u001b[43mresult\u001b[49m\u001b[38;5;241;43m.\u001b[39;49m\u001b[43mcopy\u001b[49m()\n\u001b[0;32m      7\u001b[0m test \u001b[38;5;241m=\u001b[39m test\u001b[38;5;241m.\u001b[39mid_user\u001b[38;5;241m.\u001b[39miloc[\u001b[38;5;241m0\u001b[39m]\n\u001b[0;32m      8\u001b[0m kode_user\u001b[38;5;241m=\u001b[39m[]\n",
      "\u001b[1;31mAttributeError\u001b[0m: 'NoneType' object has no attribute 'copy'"
     ]
    }
   ],
   "source": [
    "for i in test:\n",
    "    test=pd.DataFrame([i], columns=['id_user'])\n",
    "    df=rating.copy()\n",
    "    place_df=place.copy()\n",
    "    result=testing(test, df, place_df)\n",
    "    rp2= result.copy()\n",
    "    test = test.id_user.iloc[0]\n",
    "    kode_user=[]\n",
    "    for i in range(len(rp2)):\n",
    "        kode_user.append(test)\n",
    "    rp2['kode_user'] = kode_user\n",
    "    rp2['id_rek'] = \"\"\n",
    "    rp2 = rp2[[\"id_rek\", \"kode_user\", \"id\"]]\n",
    "    rp2.columns = [\"id_rek\", \"kode_user\", \"kode_wisata\"]\n",
    "    delete_list_rekomen(test)\n",
    "    #insert_to_list_rekomen_db(rp2)"
   ]
  },
  {
   "cell_type": "code",
   "execution_count": 9,
   "id": "112f224a-cf2b-47d0-b55c-4f21a8593143",
   "metadata": {},
   "outputs": [],
   "source": [
    "ranting_fe=get_DataRating().copy()\n",
    "ranting_fe.set_index(\"time\", inplace=True)"
   ]
  },
  {
   "cell_type": "code",
   "execution_count": 10,
   "id": "45f99337-e712-4601-99c7-2ea29f87d38f",
   "metadata": {},
   "outputs": [
    {
     "data": {
      "text/html": [
       "<div>\n",
       "<style scoped>\n",
       "    .dataframe tbody tr th:only-of-type {\n",
       "        vertical-align: middle;\n",
       "    }\n",
       "\n",
       "    .dataframe tbody tr th {\n",
       "        vertical-align: top;\n",
       "    }\n",
       "\n",
       "    .dataframe thead th {\n",
       "        text-align: right;\n",
       "    }\n",
       "</style>\n",
       "<table border=\"1\" class=\"dataframe\">\n",
       "  <thead>\n",
       "    <tr style=\"text-align: right;\">\n",
       "      <th></th>\n",
       "      <th>id_rate</th>\n",
       "      <th>kode_user</th>\n",
       "      <th>kode_wisata</th>\n",
       "      <th>rate_value</th>\n",
       "    </tr>\n",
       "    <tr>\n",
       "      <th>time</th>\n",
       "      <th></th>\n",
       "      <th></th>\n",
       "      <th></th>\n",
       "      <th></th>\n",
       "    </tr>\n",
       "  </thead>\n",
       "  <tbody>\n",
       "    <tr>\n",
       "      <th>2022-10-19 14:49:21</th>\n",
       "      <td>20023</td>\n",
       "      <td>1004</td>\n",
       "      <td>101</td>\n",
       "      <td>4.0</td>\n",
       "    </tr>\n",
       "    <tr>\n",
       "      <th>2022-10-19 14:49:21</th>\n",
       "      <td>20024</td>\n",
       "      <td>1004</td>\n",
       "      <td>102</td>\n",
       "      <td>5.0</td>\n",
       "    </tr>\n",
       "    <tr>\n",
       "      <th>2022-10-19 14:49:21</th>\n",
       "      <td>20025</td>\n",
       "      <td>1004</td>\n",
       "      <td>103</td>\n",
       "      <td>4.0</td>\n",
       "    </tr>\n",
       "    <tr>\n",
       "      <th>2022-10-19 14:49:21</th>\n",
       "      <td>20026</td>\n",
       "      <td>1004</td>\n",
       "      <td>104</td>\n",
       "      <td>5.0</td>\n",
       "    </tr>\n",
       "    <tr>\n",
       "      <th>2022-10-19 14:49:21</th>\n",
       "      <td>20027</td>\n",
       "      <td>1004</td>\n",
       "      <td>105</td>\n",
       "      <td>3.0</td>\n",
       "    </tr>\n",
       "    <tr>\n",
       "      <th>...</th>\n",
       "      <td>...</td>\n",
       "      <td>...</td>\n",
       "      <td>...</td>\n",
       "      <td>...</td>\n",
       "    </tr>\n",
       "    <tr>\n",
       "      <th>2022-11-02 13:29:45</th>\n",
       "      <td>20138</td>\n",
       "      <td>1014</td>\n",
       "      <td>107</td>\n",
       "      <td>4.5</td>\n",
       "    </tr>\n",
       "    <tr>\n",
       "      <th>2022-11-02 13:30:12</th>\n",
       "      <td>20139</td>\n",
       "      <td>1014</td>\n",
       "      <td>107</td>\n",
       "      <td>4.5</td>\n",
       "    </tr>\n",
       "    <tr>\n",
       "      <th>2022-11-02 13:45:42</th>\n",
       "      <td>20140</td>\n",
       "      <td>1014</td>\n",
       "      <td>107</td>\n",
       "      <td>4.5</td>\n",
       "    </tr>\n",
       "    <tr>\n",
       "      <th>2022-11-02 13:46:38</th>\n",
       "      <td>20141</td>\n",
       "      <td>1014</td>\n",
       "      <td>105</td>\n",
       "      <td>4.5</td>\n",
       "    </tr>\n",
       "    <tr>\n",
       "      <th>2022-11-02 14:04:37</th>\n",
       "      <td>20142</td>\n",
       "      <td>1014</td>\n",
       "      <td>105</td>\n",
       "      <td>4.5</td>\n",
       "    </tr>\n",
       "  </tbody>\n",
       "</table>\n",
       "<p>117 rows × 4 columns</p>\n",
       "</div>"
      ],
      "text/plain": [
       "                     id_rate  kode_user  kode_wisata  rate_value\n",
       "time                                                            \n",
       "2022-10-19 14:49:21    20023       1004          101         4.0\n",
       "2022-10-19 14:49:21    20024       1004          102         5.0\n",
       "2022-10-19 14:49:21    20025       1004          103         4.0\n",
       "2022-10-19 14:49:21    20026       1004          104         5.0\n",
       "2022-10-19 14:49:21    20027       1004          105         3.0\n",
       "...                      ...        ...          ...         ...\n",
       "2022-11-02 13:29:45    20138       1014          107         4.5\n",
       "2022-11-02 13:30:12    20139       1014          107         4.5\n",
       "2022-11-02 13:45:42    20140       1014          107         4.5\n",
       "2022-11-02 13:46:38    20141       1014          105         4.5\n",
       "2022-11-02 14:04:37    20142       1014          105         4.5\n",
       "\n",
       "[117 rows x 4 columns]"
      ]
     },
     "execution_count": 10,
     "metadata": {},
     "output_type": "execute_result"
    }
   ],
   "source": [
    "ranting_fe"
   ]
  },
  {
   "cell_type": "code",
   "execution_count": 6,
   "id": "8180faae-c7f6-4515-b3f5-d86ebcd22397",
   "metadata": {},
   "outputs": [
    {
     "data": {
      "text/plain": [
       "'2022-11-03'"
      ]
     },
     "execution_count": 6,
     "metadata": {},
     "output_type": "execute_result"
    }
   ],
   "source": [
    "today = date.today()\n",
    "today=today.strftime('%Y-%m-%d')\n",
    "today"
   ]
  },
  {
   "cell_type": "code",
   "execution_count": 12,
   "id": "e792f0a1-ca39-4bc9-a814-421bb176a8be",
   "metadata": {},
   "outputs": [
    {
     "data": {
      "text/plain": [
       "array([1020, 1021, 1014], dtype=int64)"
      ]
     },
     "execution_count": 12,
     "metadata": {},
     "output_type": "execute_result"
    }
   ],
   "source": [
    "test=ranting_fe.loc['2022-11-02']\n",
    "test=test.iloc[:, 1:2]\n",
    "test=test.reset_index(drop=True)\n",
    "test=test.kode_user.unique()\n",
    "test"
   ]
  },
  {
   "cell_type": "code",
   "execution_count": 17,
   "id": "df001279-42db-46c6-a9b5-8e5e7e1ff0a4",
   "metadata": {},
   "outputs": [
    {
     "data": {
      "text/plain": [
       "int"
      ]
     },
     "execution_count": 17,
     "metadata": {},
     "output_type": "execute_result"
    }
   ],
   "source": [
    "type(int(test[0]))"
   ]
  },
  {
   "cell_type": "code",
   "execution_count": 23,
   "id": "c2b5f1a5-da64-4a37-811f-1fd96a9ce274",
   "metadata": {},
   "outputs": [],
   "source": [
    "def delete_list_rekomen(test):\n",
    "    # Connect to the database\n",
    "    connection = pymysql.connect(host=\"127.0.0.1\",\n",
    "                                 port=3306,\n",
    "                                 user='root',\n",
    "                                 # password='f#Ur8J3N',\n",
    "                                 database='tour_in')\n",
    "    # create cursor\n",
    "    cursor=connection.cursor()    \n",
    "    cursor.execute(\"DELETE FROM `list_rekomen` WHERE `kode_user` = %s\", (test))\n",
    "    connection.commit()"
   ]
  },
  {
   "cell_type": "code",
   "execution_count": 24,
   "id": "33c6fe46-afd2-4602-b2ff-5511a3894cc9",
   "metadata": {},
   "outputs": [],
   "source": [
    "for i in test:\n",
    "    x=int(i)\n",
    "    delete_list_rekomen(i)"
   ]
  },
  {
   "cell_type": "code",
   "execution_count": null,
   "id": "ad078786-1f60-49ee-ae11-96a8958f39e4",
   "metadata": {},
   "outputs": [],
   "source": []
  },
  {
   "cell_type": "code",
   "execution_count": 8,
   "id": "742bfd66-8e5c-4838-b246-9f1e8ba1f75c",
   "metadata": {},
   "outputs": [],
   "source": [
    "x =[]"
   ]
  },
  {
   "cell_type": "code",
   "execution_count": 9,
   "id": "f20824cf-0bac-4f0f-8aae-4b608b653453",
   "metadata": {},
   "outputs": [
    {
     "name": "stdout",
     "output_type": "stream",
     "text": [
      "x kosong\n"
     ]
    }
   ],
   "source": [
    "if x == []:\n",
    "    print(\"x kosong\")\n",
    "else:\n",
    "    print(\"tidak kosong\")"
   ]
  },
  {
   "cell_type": "code",
   "execution_count": 6,
   "id": "b910519b-9c64-4294-8664-ef2c83ee17a2",
   "metadata": {},
   "outputs": [],
   "source": [
    "test=1014"
   ]
  },
  {
   "cell_type": "code",
   "execution_count": null,
   "id": "3d3c6ab3-58e1-44a6-9601-02c11d14b2c0",
   "metadata": {},
   "outputs": [],
   "source": [
    "SELECT * FROM `rating_fe` WHERE `kode_user` = %s"
   ]
  },
  {
   "cell_type": "code",
   "execution_count": 16,
   "id": "d72c9922-e9ce-48e0-a839-801a6e8e501f",
   "metadata": {},
   "outputs": [
    {
     "ename": "DatabaseError",
     "evalue": "Execution failed on sql '\n    SELECT * FROM `rating_fe` WHERE `kode_user` ={test};\n    ': 1064 (42000): You have an error in your SQL syntax; check the manual that corresponds to your MariaDB server version for the right syntax to use near '}' at line 1",
     "output_type": "error",
     "traceback": [
      "\u001b[1;31m---------------------------------------------------------------------------\u001b[0m",
      "\u001b[1;31mProgrammingError\u001b[0m                          Traceback (most recent call last)",
      "File \u001b[1;32mc:\\users\\administrator\\appdata\\local\\programs\\python\\python39\\lib\\site-packages\\pandas\\io\\sql.py:2019\u001b[0m, in \u001b[0;36mSQLiteDatabase.execute\u001b[1;34m(self, *args, **kwargs)\u001b[0m\n\u001b[0;32m   2018\u001b[0m \u001b[38;5;28;01mtry\u001b[39;00m:\n\u001b[1;32m-> 2019\u001b[0m     cur\u001b[38;5;241m.\u001b[39mexecute(\u001b[38;5;241m*\u001b[39margs, \u001b[38;5;241m*\u001b[39m\u001b[38;5;241m*\u001b[39mkwargs)\n\u001b[0;32m   2020\u001b[0m     \u001b[38;5;28;01mreturn\u001b[39;00m cur\n",
      "File \u001b[1;32mc:\\users\\administrator\\appdata\\local\\programs\\python\\python39\\lib\\site-packages\\mysql\\connector\\cursor.py:551\u001b[0m, in \u001b[0;36mMySQLCursor.execute\u001b[1;34m(self, operation, params, multi)\u001b[0m\n\u001b[0;32m    550\u001b[0m \u001b[38;5;28;01mtry\u001b[39;00m:\n\u001b[1;32m--> 551\u001b[0m     \u001b[38;5;28mself\u001b[39m\u001b[38;5;241m.\u001b[39m_handle_result(\u001b[38;5;28;43mself\u001b[39;49m\u001b[38;5;241;43m.\u001b[39;49m\u001b[43m_connection\u001b[49m\u001b[38;5;241;43m.\u001b[39;49m\u001b[43mcmd_query\u001b[49m\u001b[43m(\u001b[49m\u001b[43mstmt\u001b[49m\u001b[43m)\u001b[49m)\n\u001b[0;32m    552\u001b[0m \u001b[38;5;28;01mexcept\u001b[39;00m errors\u001b[38;5;241m.\u001b[39mInterfaceError:\n",
      "File \u001b[1;32mc:\\users\\administrator\\appdata\\local\\programs\\python\\python39\\lib\\site-packages\\mysql\\connector\\connection.py:490\u001b[0m, in \u001b[0;36mMySQLConnection.cmd_query\u001b[1;34m(self, query, raw, buffered, raw_as_string)\u001b[0m\n\u001b[0;32m    489\u001b[0m     query \u001b[38;5;241m=\u001b[39m query\u001b[38;5;241m.\u001b[39mencode(\u001b[38;5;124m'\u001b[39m\u001b[38;5;124mutf-8\u001b[39m\u001b[38;5;124m'\u001b[39m)\n\u001b[1;32m--> 490\u001b[0m result \u001b[38;5;241m=\u001b[39m \u001b[38;5;28;43mself\u001b[39;49m\u001b[38;5;241;43m.\u001b[39;49m\u001b[43m_handle_result\u001b[49m\u001b[43m(\u001b[49m\u001b[38;5;28;43mself\u001b[39;49m\u001b[38;5;241;43m.\u001b[39;49m\u001b[43m_send_cmd\u001b[49m\u001b[43m(\u001b[49m\u001b[43mServerCmd\u001b[49m\u001b[38;5;241;43m.\u001b[39;49m\u001b[43mQUERY\u001b[49m\u001b[43m,\u001b[49m\u001b[43m \u001b[49m\u001b[43mquery\u001b[49m\u001b[43m)\u001b[49m\u001b[43m)\u001b[49m\n\u001b[0;32m    492\u001b[0m \u001b[38;5;28;01mif\u001b[39;00m \u001b[38;5;28mself\u001b[39m\u001b[38;5;241m.\u001b[39m_have_next_result:\n",
      "File \u001b[1;32mc:\\users\\administrator\\appdata\\local\\programs\\python\\python39\\lib\\site-packages\\mysql\\connector\\connection.py:395\u001b[0m, in \u001b[0;36mMySQLConnection._handle_result\u001b[1;34m(self, packet)\u001b[0m\n\u001b[0;32m    394\u001b[0m \u001b[38;5;28;01melif\u001b[39;00m packet[\u001b[38;5;241m4\u001b[39m] \u001b[38;5;241m==\u001b[39m \u001b[38;5;241m255\u001b[39m:\n\u001b[1;32m--> 395\u001b[0m     \u001b[38;5;28;01mraise\u001b[39;00m errors\u001b[38;5;241m.\u001b[39mget_exception(packet)\n\u001b[0;32m    397\u001b[0m \u001b[38;5;66;03m# We have a text result set\u001b[39;00m\n",
      "\u001b[1;31mProgrammingError\u001b[0m: 1064 (42000): You have an error in your SQL syntax; check the manual that corresponds to your MariaDB server version for the right syntax to use near '}' at line 1",
      "\nThe above exception was the direct cause of the following exception:\n",
      "\u001b[1;31mDatabaseError\u001b[0m                             Traceback (most recent call last)",
      "Cell \u001b[1;32mIn [18], line 1\u001b[0m\n\u001b[1;32m----> 1\u001b[0m x\u001b[38;5;241m=\u001b[39m\u001b[43mget_DataRatingbyID\u001b[49m\u001b[43m(\u001b[49m\u001b[43mtest\u001b[49m\u001b[43m)\u001b[49m\n",
      "Cell \u001b[1;32mIn [17], line 10\u001b[0m, in \u001b[0;36mget_DataRatingbyID\u001b[1;34m(test)\u001b[0m\n\u001b[0;32m      2\u001b[0m my_conn \u001b[38;5;241m=\u001b[39m mysql\u001b[38;5;241m.\u001b[39mconnector\u001b[38;5;241m.\u001b[39mconnect(host\u001b[38;5;241m=\u001b[39m\u001b[38;5;124m\"\u001b[39m\u001b[38;5;124m127.0.0.1\u001b[39m\u001b[38;5;124m\"\u001b[39m,\n\u001b[0;32m      3\u001b[0m                                     port\u001b[38;5;241m=\u001b[39m\u001b[38;5;241m3306\u001b[39m,\n\u001b[0;32m      4\u001b[0m                                     user\u001b[38;5;241m=\u001b[39m\u001b[38;5;124m'\u001b[39m\u001b[38;5;124mroot\u001b[39m\u001b[38;5;124m'\u001b[39m,\n\u001b[0;32m      5\u001b[0m                                     \u001b[38;5;66;03m# password='f#Ur8J3N',\u001b[39;00m\n\u001b[0;32m      6\u001b[0m                                     database\u001b[38;5;241m=\u001b[39m\u001b[38;5;124m'\u001b[39m\u001b[38;5;124mtour_in\u001b[39m\u001b[38;5;124m'\u001b[39m)\n\u001b[0;32m      7\u001b[0m query_insert\u001b[38;5;241m=\u001b[39m\u001b[38;5;124m\"\"\"\u001b[39m\n\u001b[0;32m      8\u001b[0m \u001b[38;5;124mSELECT * FROM `rating_fe` WHERE `kode_user` =\u001b[39m\u001b[38;5;132;01m{test}\u001b[39;00m\u001b[38;5;124m;\u001b[39m\n\u001b[0;32m      9\u001b[0m \u001b[38;5;124m\u001b[39m\u001b[38;5;124m\"\"\"\u001b[39m\n\u001b[1;32m---> 10\u001b[0m raw_rating_by_id \u001b[38;5;241m=\u001b[39m \u001b[43mpd\u001b[49m\u001b[38;5;241;43m.\u001b[39;49m\u001b[43mread_sql_query\u001b[49m\u001b[43m(\u001b[49m\u001b[43mquery_insert\u001b[49m\u001b[43m,\u001b[49m\u001b[43m \u001b[49m\u001b[43mmy_conn\u001b[49m\u001b[43m)\u001b[49m\n\u001b[0;32m     11\u001b[0m \u001b[38;5;28;01mreturn\u001b[39;00m raw_rating_by_id\n",
      "File \u001b[1;32mc:\\users\\administrator\\appdata\\local\\programs\\python\\python39\\lib\\site-packages\\pandas\\io\\sql.py:398\u001b[0m, in \u001b[0;36mread_sql_query\u001b[1;34m(sql, con, index_col, coerce_float, params, parse_dates, chunksize, dtype)\u001b[0m\n\u001b[0;32m    340\u001b[0m \u001b[38;5;124;03m\"\"\"\u001b[39;00m\n\u001b[0;32m    341\u001b[0m \u001b[38;5;124;03mRead SQL query into a DataFrame.\u001b[39;00m\n\u001b[0;32m    342\u001b[0m \n\u001b[1;32m   (...)\u001b[0m\n\u001b[0;32m    395\u001b[0m \u001b[38;5;124;03mparameter will be converted to UTC.\u001b[39;00m\n\u001b[0;32m    396\u001b[0m \u001b[38;5;124;03m\"\"\"\u001b[39;00m\n\u001b[0;32m    397\u001b[0m pandas_sql \u001b[38;5;241m=\u001b[39m pandasSQL_builder(con)\n\u001b[1;32m--> 398\u001b[0m \u001b[38;5;28;01mreturn\u001b[39;00m \u001b[43mpandas_sql\u001b[49m\u001b[38;5;241;43m.\u001b[39;49m\u001b[43mread_query\u001b[49m\u001b[43m(\u001b[49m\n\u001b[0;32m    399\u001b[0m \u001b[43m    \u001b[49m\u001b[43msql\u001b[49m\u001b[43m,\u001b[49m\n\u001b[0;32m    400\u001b[0m \u001b[43m    \u001b[49m\u001b[43mindex_col\u001b[49m\u001b[38;5;241;43m=\u001b[39;49m\u001b[43mindex_col\u001b[49m\u001b[43m,\u001b[49m\n\u001b[0;32m    401\u001b[0m \u001b[43m    \u001b[49m\u001b[43mparams\u001b[49m\u001b[38;5;241;43m=\u001b[39;49m\u001b[43mparams\u001b[49m\u001b[43m,\u001b[49m\n\u001b[0;32m    402\u001b[0m \u001b[43m    \u001b[49m\u001b[43mcoerce_float\u001b[49m\u001b[38;5;241;43m=\u001b[39;49m\u001b[43mcoerce_float\u001b[49m\u001b[43m,\u001b[49m\n\u001b[0;32m    403\u001b[0m \u001b[43m    \u001b[49m\u001b[43mparse_dates\u001b[49m\u001b[38;5;241;43m=\u001b[39;49m\u001b[43mparse_dates\u001b[49m\u001b[43m,\u001b[49m\n\u001b[0;32m    404\u001b[0m \u001b[43m    \u001b[49m\u001b[43mchunksize\u001b[49m\u001b[38;5;241;43m=\u001b[39;49m\u001b[43mchunksize\u001b[49m\u001b[43m,\u001b[49m\n\u001b[0;32m    405\u001b[0m \u001b[43m    \u001b[49m\u001b[43mdtype\u001b[49m\u001b[38;5;241;43m=\u001b[39;49m\u001b[43mdtype\u001b[49m\u001b[43m,\u001b[49m\n\u001b[0;32m    406\u001b[0m \u001b[43m\u001b[49m\u001b[43m)\u001b[49m\n",
      "File \u001b[1;32mc:\\users\\administrator\\appdata\\local\\programs\\python\\python39\\lib\\site-packages\\pandas\\io\\sql.py:2079\u001b[0m, in \u001b[0;36mSQLiteDatabase.read_query\u001b[1;34m(self, sql, index_col, coerce_float, params, parse_dates, chunksize, dtype)\u001b[0m\n\u001b[0;32m   2067\u001b[0m \u001b[38;5;28;01mdef\u001b[39;00m \u001b[38;5;21mread_query\u001b[39m(\n\u001b[0;32m   2068\u001b[0m     \u001b[38;5;28mself\u001b[39m,\n\u001b[0;32m   2069\u001b[0m     sql,\n\u001b[1;32m   (...)\u001b[0m\n\u001b[0;32m   2075\u001b[0m     dtype: DtypeArg \u001b[38;5;241m|\u001b[39m \u001b[38;5;28;01mNone\u001b[39;00m \u001b[38;5;241m=\u001b[39m \u001b[38;5;28;01mNone\u001b[39;00m,\n\u001b[0;32m   2076\u001b[0m ) \u001b[38;5;241m-\u001b[39m\u001b[38;5;241m>\u001b[39m DataFrame \u001b[38;5;241m|\u001b[39m Iterator[DataFrame]:\n\u001b[0;32m   2078\u001b[0m     args \u001b[38;5;241m=\u001b[39m _convert_params(sql, params)\n\u001b[1;32m-> 2079\u001b[0m     cursor \u001b[38;5;241m=\u001b[39m \u001b[38;5;28;43mself\u001b[39;49m\u001b[38;5;241;43m.\u001b[39;49m\u001b[43mexecute\u001b[49m\u001b[43m(\u001b[49m\u001b[38;5;241;43m*\u001b[39;49m\u001b[43margs\u001b[49m\u001b[43m)\u001b[49m\n\u001b[0;32m   2080\u001b[0m     columns \u001b[38;5;241m=\u001b[39m [col_desc[\u001b[38;5;241m0\u001b[39m] \u001b[38;5;28;01mfor\u001b[39;00m col_desc \u001b[38;5;129;01min\u001b[39;00m cursor\u001b[38;5;241m.\u001b[39mdescription]\n\u001b[0;32m   2082\u001b[0m     \u001b[38;5;28;01mif\u001b[39;00m chunksize \u001b[38;5;129;01mis\u001b[39;00m \u001b[38;5;129;01mnot\u001b[39;00m \u001b[38;5;28;01mNone\u001b[39;00m:\n",
      "File \u001b[1;32mc:\\users\\administrator\\appdata\\local\\programs\\python\\python39\\lib\\site-packages\\pandas\\io\\sql.py:2031\u001b[0m, in \u001b[0;36mSQLiteDatabase.execute\u001b[1;34m(self, *args, **kwargs)\u001b[0m\n\u001b[0;32m   2028\u001b[0m     \u001b[38;5;28;01mraise\u001b[39;00m ex \u001b[38;5;28;01mfrom\u001b[39;00m \u001b[38;5;21;01minner_exc\u001b[39;00m\n\u001b[0;32m   2030\u001b[0m ex \u001b[38;5;241m=\u001b[39m DatabaseError(\u001b[38;5;124mf\u001b[39m\u001b[38;5;124m\"\u001b[39m\u001b[38;5;124mExecution failed on sql \u001b[39m\u001b[38;5;124m'\u001b[39m\u001b[38;5;132;01m{\u001b[39;00margs[\u001b[38;5;241m0\u001b[39m]\u001b[38;5;132;01m}\u001b[39;00m\u001b[38;5;124m'\u001b[39m\u001b[38;5;124m: \u001b[39m\u001b[38;5;132;01m{\u001b[39;00mexc\u001b[38;5;132;01m}\u001b[39;00m\u001b[38;5;124m\"\u001b[39m)\n\u001b[1;32m-> 2031\u001b[0m \u001b[38;5;28;01mraise\u001b[39;00m ex \u001b[38;5;28;01mfrom\u001b[39;00m \u001b[38;5;21;01mexc\u001b[39;00m\n",
      "\u001b[1;31mDatabaseError\u001b[0m: Execution failed on sql '\n    SELECT * FROM `rating_fe` WHERE `kode_user` ={test};\n    ': 1064 (42000): You have an error in your SQL syntax; check the manual that corresponds to your MariaDB server version for the right syntax to use near '}' at line 1"
     ]
    }
   ],
   "source": [
    "x=get_DataRatingbyID(test)"
   ]
  },
  {
   "cell_type": "code",
   "execution_count": 19,
   "id": "d106fd9d-fdf2-4011-9f89-d6c20d9cef36",
   "metadata": {},
   "outputs": [],
   "source": [
    "def get_DataRating():\n",
    "    my_conn = mysql.connector.connect(host=\"127.0.0.1\",\n",
    "                                        port=3306,\n",
    "                                        user='root',\n",
    "                                        # password='f#Ur8J3N',\n",
    "                                        database='tour_in')\n",
    "    query_insert=\"\"\"\n",
    "    SELECT * FROM rating_fe;\n",
    "    \"\"\"\n",
    "    raw_rating_fe = pd.read_sql_query(query_insert, my_conn)\n",
    "    return raw_rating_fe"
   ]
  },
  {
   "cell_type": "code",
   "execution_count": 29,
   "id": "89f3f46c-8376-48fa-8d86-02c159ee7b42",
   "metadata": {},
   "outputs": [],
   "source": [
    "x=get_DataRating().copy()\n",
    "x = x[[\"kode_user\", \"kode_wisata\"]]"
   ]
  },
  {
   "cell_type": "code",
   "execution_count": 31,
   "id": "279768bf-ec77-406b-b5ab-8c8563f3856c",
   "metadata": {},
   "outputs": [],
   "source": [
    "x=x[x['kode_user']==test]"
   ]
  },
  {
   "cell_type": "code",
   "execution_count": 34,
   "id": "028cff57-8fe2-4670-94be-35b023b742ca",
   "metadata": {},
   "outputs": [
    {
     "data": {
      "text/plain": [
       "array([101, 108, 107, 105, 102, 103, 104, 106, 109, 110], dtype=int64)"
      ]
     },
     "execution_count": 34,
     "metadata": {},
     "output_type": "execute_result"
    }
   ],
   "source": [
    "x.kode_wisata.unique()"
   ]
  },
  {
   "cell_type": "code",
   "execution_count": 46,
   "id": "57aef1d4-6050-4225-90ae-d27d20486ce1",
   "metadata": {},
   "outputs": [],
   "source": [
    "import pandas as pd\n",
    "\n",
    "kode_wisata={\"kode_wisata\":[101,102,103,104,105,106,107,108,109,110]}"
   ]
  },
  {
   "cell_type": "code",
   "execution_count": 47,
   "id": "bae59553-d063-4f2f-9d6d-95e03fb05606",
   "metadata": {},
   "outputs": [],
   "source": [
    "df1 = pd.DataFrame(data = kode_wisata)"
   ]
  },
  {
   "cell_type": "code",
   "execution_count": 48,
   "id": "4ad6d62b-c661-4de6-bf29-91245caec291",
   "metadata": {},
   "outputs": [],
   "source": [
    "kode_user=[]\n",
    "for i in range(len(df1)):\n",
    "    kode_user.append(test)"
   ]
  },
  {
   "cell_type": "code",
   "execution_count": 49,
   "id": "91b907a6-33c2-40f2-a678-c86bddfe3e54",
   "metadata": {},
   "outputs": [],
   "source": [
    "df1['kode_user'] = kode_user"
   ]
  },
  {
   "cell_type": "code",
   "execution_count": 52,
   "id": "914f991f-3a91-458f-8087-98936528600e",
   "metadata": {},
   "outputs": [
    {
     "data": {
      "text/html": [
       "<div>\n",
       "<style scoped>\n",
       "    .dataframe tbody tr th:only-of-type {\n",
       "        vertical-align: middle;\n",
       "    }\n",
       "\n",
       "    .dataframe tbody tr th {\n",
       "        vertical-align: top;\n",
       "    }\n",
       "\n",
       "    .dataframe thead th {\n",
       "        text-align: right;\n",
       "    }\n",
       "</style>\n",
       "<table border=\"1\" class=\"dataframe\">\n",
       "  <thead>\n",
       "    <tr style=\"text-align: right;\">\n",
       "      <th></th>\n",
       "      <th>kode_wisata</th>\n",
       "      <th>kode_user</th>\n",
       "    </tr>\n",
       "  </thead>\n",
       "  <tbody>\n",
       "    <tr>\n",
       "      <th>0</th>\n",
       "      <td>101</td>\n",
       "      <td>1014</td>\n",
       "    </tr>\n",
       "    <tr>\n",
       "      <th>1</th>\n",
       "      <td>102</td>\n",
       "      <td>1014</td>\n",
       "    </tr>\n",
       "    <tr>\n",
       "      <th>2</th>\n",
       "      <td>103</td>\n",
       "      <td>1014</td>\n",
       "    </tr>\n",
       "    <tr>\n",
       "      <th>3</th>\n",
       "      <td>104</td>\n",
       "      <td>1014</td>\n",
       "    </tr>\n",
       "    <tr>\n",
       "      <th>4</th>\n",
       "      <td>105</td>\n",
       "      <td>1014</td>\n",
       "    </tr>\n",
       "    <tr>\n",
       "      <th>5</th>\n",
       "      <td>106</td>\n",
       "      <td>1014</td>\n",
       "    </tr>\n",
       "    <tr>\n",
       "      <th>6</th>\n",
       "      <td>107</td>\n",
       "      <td>1014</td>\n",
       "    </tr>\n",
       "    <tr>\n",
       "      <th>7</th>\n",
       "      <td>108</td>\n",
       "      <td>1014</td>\n",
       "    </tr>\n",
       "    <tr>\n",
       "      <th>8</th>\n",
       "      <td>109</td>\n",
       "      <td>1014</td>\n",
       "    </tr>\n",
       "    <tr>\n",
       "      <th>9</th>\n",
       "      <td>110</td>\n",
       "      <td>1014</td>\n",
       "    </tr>\n",
       "  </tbody>\n",
       "</table>\n",
       "</div>"
      ],
      "text/plain": [
       "   kode_wisata  kode_user\n",
       "0          101       1014\n",
       "1          102       1014\n",
       "2          103       1014\n",
       "3          104       1014\n",
       "4          105       1014\n",
       "5          106       1014\n",
       "6          107       1014\n",
       "7          108       1014\n",
       "8          109       1014\n",
       "9          110       1014"
      ]
     },
     "execution_count": 52,
     "metadata": {},
     "output_type": "execute_result"
    }
   ],
   "source": [
    "df1"
   ]
  },
  {
   "cell_type": "code",
   "execution_count": 53,
   "id": "047519d6-1939-4326-9339-39ad9d0d487d",
   "metadata": {},
   "outputs": [],
   "source": [
    "df1= df1[[\"kode_user\",\"kode_wisata\"]]"
   ]
  },
  {
   "cell_type": "code",
   "execution_count": 54,
   "id": "458fa16a-fa9f-43f5-93a2-54ef8fe059b6",
   "metadata": {},
   "outputs": [
    {
     "data": {
      "text/html": [
       "<div>\n",
       "<style scoped>\n",
       "    .dataframe tbody tr th:only-of-type {\n",
       "        vertical-align: middle;\n",
       "    }\n",
       "\n",
       "    .dataframe tbody tr th {\n",
       "        vertical-align: top;\n",
       "    }\n",
       "\n",
       "    .dataframe thead th {\n",
       "        text-align: right;\n",
       "    }\n",
       "</style>\n",
       "<table border=\"1\" class=\"dataframe\">\n",
       "  <thead>\n",
       "    <tr style=\"text-align: right;\">\n",
       "      <th></th>\n",
       "      <th>kode_user</th>\n",
       "      <th>kode_wisata</th>\n",
       "    </tr>\n",
       "  </thead>\n",
       "  <tbody>\n",
       "    <tr>\n",
       "      <th>0</th>\n",
       "      <td>1014</td>\n",
       "      <td>101</td>\n",
       "    </tr>\n",
       "    <tr>\n",
       "      <th>1</th>\n",
       "      <td>1014</td>\n",
       "      <td>102</td>\n",
       "    </tr>\n",
       "    <tr>\n",
       "      <th>2</th>\n",
       "      <td>1014</td>\n",
       "      <td>103</td>\n",
       "    </tr>\n",
       "    <tr>\n",
       "      <th>3</th>\n",
       "      <td>1014</td>\n",
       "      <td>104</td>\n",
       "    </tr>\n",
       "    <tr>\n",
       "      <th>4</th>\n",
       "      <td>1014</td>\n",
       "      <td>105</td>\n",
       "    </tr>\n",
       "    <tr>\n",
       "      <th>5</th>\n",
       "      <td>1014</td>\n",
       "      <td>106</td>\n",
       "    </tr>\n",
       "    <tr>\n",
       "      <th>6</th>\n",
       "      <td>1014</td>\n",
       "      <td>107</td>\n",
       "    </tr>\n",
       "    <tr>\n",
       "      <th>7</th>\n",
       "      <td>1014</td>\n",
       "      <td>108</td>\n",
       "    </tr>\n",
       "    <tr>\n",
       "      <th>8</th>\n",
       "      <td>1014</td>\n",
       "      <td>109</td>\n",
       "    </tr>\n",
       "    <tr>\n",
       "      <th>9</th>\n",
       "      <td>1014</td>\n",
       "      <td>110</td>\n",
       "    </tr>\n",
       "  </tbody>\n",
       "</table>\n",
       "</div>"
      ],
      "text/plain": [
       "   kode_user  kode_wisata\n",
       "0       1014          101\n",
       "1       1014          102\n",
       "2       1014          103\n",
       "3       1014          104\n",
       "4       1014          105\n",
       "5       1014          106\n",
       "6       1014          107\n",
       "7       1014          108\n",
       "8       1014          109\n",
       "9       1014          110"
      ]
     },
     "execution_count": 54,
     "metadata": {},
     "output_type": "execute_result"
    }
   ],
   "source": [
    "df1"
   ]
  },
  {
   "cell_type": "code",
   "execution_count": null,
   "id": "880d1d10-5e98-4bbb-acbd-8dc3341bfe1b",
   "metadata": {},
   "outputs": [],
   "source": []
  }
 ],
 "metadata": {
  "kernelspec": {
   "display_name": "Python 3 (ipykernel)",
   "language": "python",
   "name": "python3"
  },
  "language_info": {
   "codemirror_mode": {
    "name": "ipython",
    "version": 3
   },
   "file_extension": ".py",
   "mimetype": "text/x-python",
   "name": "python",
   "nbconvert_exporter": "python",
   "pygments_lexer": "ipython3",
   "version": "3.9.4"
  }
 },
 "nbformat": 4,
 "nbformat_minor": 5
}

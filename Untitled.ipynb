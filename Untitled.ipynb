{
 "cells": [
  {
   "cell_type": "code",
   "execution_count": 4,
   "id": "51b469b1-2649-428e-82ba-2fdaed89f01f",
   "metadata": {},
   "outputs": [],
   "source": [
    "import pandas as pd\n",
    "import numpy as np\n",
    "from function import *\n",
    "from datetime import date, timedelta\n",
    "from RecommendationModel import RecommenderNet\n",
    "import warnings\n",
    "warnings.filterwarnings('ignore')"
   ]
  },
  {
   "cell_type": "code",
   "execution_count": 3,
   "id": "fe002acb-5eaf-4249-b533-1f579a64c929",
   "metadata": {},
   "outputs": [],
   "source": [
    "# import os\n",
    "# from pathlib import Path\n",
    "# for dirname, _, filenames in os.walk('model_checkpoint/'):\n",
    "#     for filename in filenames:\n",
    "#         path = os.path.join(dirname, filename)\n",
    "#         os.remove(path)"
   ]
  },
  {
   "cell_type": "code",
   "execution_count": 5,
   "id": "530f5b69-e571-4ce3-bc21-894186dc22e8",
   "metadata": {},
   "outputs": [],
   "source": [
    "def get_DataRating():\n",
    "    my_conn = mysql.connector.connect(host=\"127.0.0.1\",\n",
    "                                        port=3306,\n",
    "                                        user='root',\n",
    "                                        # password='f#Ur8J3N',\n",
    "                                        database='tour_in')\n",
    "    query_insert=\"\"\"\n",
    "    SELECT * FROM rating_fe;\n",
    "    \"\"\"\n",
    "    raw_rating_fe = pd.read_sql_query(query_insert, my_conn)\n",
    "    return raw_rating_fe"
   ]
  },
  {
   "cell_type": "code",
   "execution_count": 6,
   "id": "9e122fe5-31ff-4bc6-9b67-55c7cf7237e0",
   "metadata": {},
   "outputs": [],
   "source": [
    "def get_DataListWisata():\n",
    "    my_conn = mysql.connector.connect(host=\"127.0.0.1\",\n",
    "                                        port=3306,\n",
    "                                        user='root',\n",
    "                                        # password='f#Ur8J3N',\n",
    "                                        database='tour_in')\n",
    "    query_insert=\"\"\"\n",
    "    SELECT * FROM list_wisata;\n",
    "    \"\"\"\n",
    "    raw_list_wisata = pd.read_sql_query(query_insert, my_conn)\n",
    "    return raw_list_wisata"
   ]
  },
  {
   "cell_type": "code",
   "execution_count": 7,
   "id": "739ce733-86cb-4c66-999e-71ec6ccc443d",
   "metadata": {},
   "outputs": [],
   "source": [
    "ranting_fe=get_DataRating().copy()\n",
    "rating=ranting_fe[['kode_user','kode_wisata','rate_value']]\n",
    "rating.columns = [['id_user','id_wisata', 'rating']]\n",
    "rating.to_csv('Dataset/rating_fe.csv', index=False)"
   ]
  },
  {
   "cell_type": "code",
   "execution_count": 8,
   "id": "cd6d7fbd-e524-4ec7-a795-d929ca30d173",
   "metadata": {},
   "outputs": [],
   "source": [
    "list_wisata=get_DataListWisata().copy()\n",
    "place=list_wisata[['id_wisata','wisata']]\n",
    "place.columns = ['id','place_name']\n",
    "place.to_csv('Dataset/list_wisata_db.csv', index=False)"
   ]
  },
  {
   "cell_type": "code",
   "execution_count": 9,
   "id": "aa1b51c8-121d-454b-b3d4-ca1351439599",
   "metadata": {},
   "outputs": [],
   "source": [
    "rating = pd.read_csv('Dataset/rating_fe.csv')\n",
    "place = pd.read_csv('Dataset/list_wisata_db.csv')"
   ]
  },
  {
   "cell_type": "code",
   "execution_count": 10,
   "id": "9f1b365d-1a36-48fb-8dc1-d9e738a534eb",
   "metadata": {},
   "outputs": [],
   "source": [
    "df=rating.copy()\n",
    "place_df=place.copy()"
   ]
  },
  {
   "cell_type": "code",
   "execution_count": 11,
   "id": "35eff9d4-93a5-4ecf-b47f-cb7ba63a47e0",
   "metadata": {},
   "outputs": [
    {
     "data": {
      "text/html": [
       "<div>\n",
       "<style scoped>\n",
       "    .dataframe tbody tr th:only-of-type {\n",
       "        vertical-align: middle;\n",
       "    }\n",
       "\n",
       "    .dataframe tbody tr th {\n",
       "        vertical-align: top;\n",
       "    }\n",
       "\n",
       "    .dataframe thead th {\n",
       "        text-align: right;\n",
       "    }\n",
       "</style>\n",
       "<table border=\"1\" class=\"dataframe\">\n",
       "  <thead>\n",
       "    <tr style=\"text-align: right;\">\n",
       "      <th></th>\n",
       "      <th>id_rate</th>\n",
       "      <th>kode_user</th>\n",
       "      <th>kode_wisata</th>\n",
       "      <th>rate_value</th>\n",
       "      <th>time</th>\n",
       "    </tr>\n",
       "  </thead>\n",
       "  <tbody>\n",
       "    <tr>\n",
       "      <th>98</th>\n",
       "      <td>20121</td>\n",
       "      <td>1013</td>\n",
       "      <td>109</td>\n",
       "      <td>4.0</td>\n",
       "      <td>2022-10-19 15:27:30</td>\n",
       "    </tr>\n",
       "    <tr>\n",
       "      <th>99</th>\n",
       "      <td>20122</td>\n",
       "      <td>1013</td>\n",
       "      <td>110</td>\n",
       "      <td>4.0</td>\n",
       "      <td>2022-10-19 15:27:30</td>\n",
       "    </tr>\n",
       "    <tr>\n",
       "      <th>100</th>\n",
       "      <td>20124</td>\n",
       "      <td>1004</td>\n",
       "      <td>102</td>\n",
       "      <td>4.0</td>\n",
       "      <td>2022-10-28 13:14:40</td>\n",
       "    </tr>\n",
       "    <tr>\n",
       "      <th>101</th>\n",
       "      <td>20127</td>\n",
       "      <td>1020</td>\n",
       "      <td>102</td>\n",
       "      <td>4.0</td>\n",
       "      <td>2022-10-31 16:52:17</td>\n",
       "    </tr>\n",
       "    <tr>\n",
       "      <th>102</th>\n",
       "      <td>20128</td>\n",
       "      <td>1021</td>\n",
       "      <td>101</td>\n",
       "      <td>4.0</td>\n",
       "      <td>2022-10-31 16:52:28</td>\n",
       "    </tr>\n",
       "  </tbody>\n",
       "</table>\n",
       "</div>"
      ],
      "text/plain": [
       "     id_rate  kode_user  kode_wisata  rate_value                time\n",
       "98     20121       1013          109         4.0 2022-10-19 15:27:30\n",
       "99     20122       1013          110         4.0 2022-10-19 15:27:30\n",
       "100    20124       1004          102         4.0 2022-10-28 13:14:40\n",
       "101    20127       1020          102         4.0 2022-10-31 16:52:17\n",
       "102    20128       1021          101         4.0 2022-10-31 16:52:28"
      ]
     },
     "execution_count": 11,
     "metadata": {},
     "output_type": "execute_result"
    }
   ],
   "source": [
    "ranting_fe.tail()"
   ]
  },
  {
   "cell_type": "code",
   "execution_count": 12,
   "id": "63faa8dd-9626-4777-96f7-ed6ced078646",
   "metadata": {},
   "outputs": [],
   "source": [
    "ranting_fe.set_index(\"time\", inplace=True)"
   ]
  },
  {
   "cell_type": "code",
   "execution_count": 13,
   "id": "9264611c-ff2b-48f0-bc60-6f7d1124b128",
   "metadata": {},
   "outputs": [],
   "source": [
    "today = date.today()\n",
    "today=today.strftime('%Y-%m-%d')"
   ]
  },
  {
   "cell_type": "code",
   "execution_count": 14,
   "id": "fdd65b77-c42e-4119-8452-c9039c143405",
   "metadata": {},
   "outputs": [
    {
     "data": {
      "text/plain": [
       "'2022-10-31'"
      ]
     },
     "execution_count": 14,
     "metadata": {},
     "output_type": "execute_result"
    }
   ],
   "source": [
    "today"
   ]
  },
  {
   "cell_type": "code",
   "execution_count": 15,
   "id": "361d8ad9-e745-4145-8a49-06eb44558647",
   "metadata": {},
   "outputs": [],
   "source": [
    "test=ranting_fe.loc[today]"
   ]
  },
  {
   "cell_type": "code",
   "execution_count": 16,
   "id": "49e60601-30ee-4de2-b3be-34c260fe38a1",
   "metadata": {},
   "outputs": [],
   "source": [
    "test=test.iloc[:, 1:2]"
   ]
  },
  {
   "cell_type": "code",
   "execution_count": 17,
   "id": "8cb8f4d5-5210-48e1-8497-9c78b9f01ced",
   "metadata": {},
   "outputs": [],
   "source": [
    "test=test.reset_index(drop=True)"
   ]
  },
  {
   "cell_type": "code",
   "execution_count": 18,
   "id": "3457abe1-ebd2-456d-b7be-813f6715165a",
   "metadata": {},
   "outputs": [],
   "source": [
    "test=test.kode_user.unique()"
   ]
  },
  {
   "cell_type": "code",
   "execution_count": 22,
   "id": "9ef9a542-d06c-46a9-8009-d60c2d0f33e7",
   "metadata": {},
   "outputs": [],
   "source": [
    "test = test[0]"
   ]
  },
  {
   "cell_type": "code",
   "execution_count": 40,
   "id": "b8368860-6dac-4f2a-a00c-b1d2432c0065",
   "metadata": {},
   "outputs": [],
   "source": [
    "test=pd.DataFrame([test], columns=['id_user'])"
   ]
  },
  {
   "cell_type": "code",
   "execution_count": 41,
   "id": "fe8a48d3-3b54-4bb3-8d32-cc7f2bb3e587",
   "metadata": {},
   "outputs": [
    {
     "data": {
      "text/html": [
       "<div>\n",
       "<style scoped>\n",
       "    .dataframe tbody tr th:only-of-type {\n",
       "        vertical-align: middle;\n",
       "    }\n",
       "\n",
       "    .dataframe tbody tr th {\n",
       "        vertical-align: top;\n",
       "    }\n",
       "\n",
       "    .dataframe thead th {\n",
       "        text-align: right;\n",
       "    }\n",
       "</style>\n",
       "<table border=\"1\" class=\"dataframe\">\n",
       "  <thead>\n",
       "    <tr style=\"text-align: right;\">\n",
       "      <th></th>\n",
       "      <th>id_user</th>\n",
       "    </tr>\n",
       "  </thead>\n",
       "  <tbody>\n",
       "    <tr>\n",
       "      <th>0</th>\n",
       "      <td>1020</td>\n",
       "    </tr>\n",
       "  </tbody>\n",
       "</table>\n",
       "</div>"
      ],
      "text/plain": [
       "   id_user\n",
       "0     1020"
      ]
     },
     "execution_count": 41,
     "metadata": {},
     "output_type": "execute_result"
    }
   ],
   "source": [
    "test"
   ]
  },
  {
   "cell_type": "code",
   "execution_count": 27,
   "id": "80a62fcc-23bc-449b-ba98-f61373680ac3",
   "metadata": {},
   "outputs": [],
   "source": [
    "def dict_encoder(col, data=df):\n",
    "    # Mengubah kolom suatu dataframe menjadi list tanpa nilai yang sama\n",
    "    unique_val = data[col].unique().tolist()\n",
    "\n",
    "    # Melakukan encoding value kolom suatu dataframe ke angka\n",
    "    val_to_val_encoded = {x: i for i, x in enumerate(unique_val)}\n",
    "    \n",
    "    # Melakukan proses encoding angka ke value dari kolom suatu dataframe\n",
    "    val_encoded_to_val = {i: x for i, x in enumerate(unique_val)}    \n",
    "    return val_to_val_encoded, val_encoded_to_val"
   ]
  },
  {
   "cell_type": "code",
   "execution_count": 28,
   "id": "1496f160-4955-4901-b851-9ed57cee8508",
   "metadata": {},
   "outputs": [
    {
     "name": "stdout",
     "output_type": "stream",
     "text": [
      "WARNING:tensorflow:Detecting that an object or model or tf.train.Checkpoint is being deleted with unrestored values. See the following logs for the specific values in question. To silence these warnings, use `status.expect_partial()`. See https://www.tensorflow.org/api_docs/python/tf/train/Checkpoint#restorefor details about the status object returned by the restore function.\n",
      "WARNING:tensorflow:Value in checkpoint could not be found in the restored object: (root).user_embedding.embeddings\n",
      "WARNING:tensorflow:Value in checkpoint could not be found in the restored object: (root).user_bias.embeddings\n",
      "WARNING:tensorflow:Value in checkpoint could not be found in the restored object: (root).places_embedding.embeddings\n",
      "WARNING:tensorflow:Value in checkpoint could not be found in the restored object: (root).places_bias.embeddings\n",
      "WARNING:tensorflow:Value in checkpoint could not be found in the restored object: (root).optimizer.iter\n",
      "WARNING:tensorflow:Value in checkpoint could not be found in the restored object: (root).optimizer.beta_1\n",
      "WARNING:tensorflow:Value in checkpoint could not be found in the restored object: (root).optimizer.beta_2\n",
      "WARNING:tensorflow:Value in checkpoint could not be found in the restored object: (root).optimizer.decay\n",
      "WARNING:tensorflow:Value in checkpoint could not be found in the restored object: (root).optimizer.learning_rate\n",
      "WARNING:tensorflow:Value in checkpoint could not be found in the restored object: (root).optimizer's state 'm' for (root).user_embedding.embeddings\n",
      "WARNING:tensorflow:Value in checkpoint could not be found in the restored object: (root).optimizer's state 'm' for (root).user_bias.embeddings\n",
      "WARNING:tensorflow:Value in checkpoint could not be found in the restored object: (root).optimizer's state 'm' for (root).places_embedding.embeddings\n",
      "WARNING:tensorflow:Value in checkpoint could not be found in the restored object: (root).optimizer's state 'm' for (root).places_bias.embeddings\n",
      "WARNING:tensorflow:Value in checkpoint could not be found in the restored object: (root).optimizer's state 'v' for (root).user_embedding.embeddings\n",
      "WARNING:tensorflow:Value in checkpoint could not be found in the restored object: (root).optimizer's state 'v' for (root).user_bias.embeddings\n",
      "WARNING:tensorflow:Value in checkpoint could not be found in the restored object: (root).optimizer's state 'v' for (root).places_embedding.embeddings\n",
      "WARNING:tensorflow:Value in checkpoint could not be found in the restored object: (root).optimizer's state 'v' for (root).places_bias.embeddings\n",
      "1/1 [==============================] - 0s 347ms/step\n"
     ]
    }
   ],
   "source": [
    "# Encoding User_Id\n",
    "user_to_user_encoded, user_encoded_to_user = dict_encoder('id_user')\n",
    "\n",
    "# Mapping User_Id ke dataframe\n",
    "df['user'] = df['id_user'].map(user_to_user_encoded)\n",
    "\n",
    "# Encoding dan Mapping Kolom Place\n",
    "\n",
    "# Encoding Place_Id\n",
    "place_to_place_encoded, place_encoded_to_place = dict_encoder('id_wisata')\n",
    "\n",
    "# Mapping Place_Id ke dataframe place\n",
    "df['place'] = df['id_wisata'].map(place_to_place_encoded)\n",
    "\n",
    "#setting parameters for model\n",
    "num_users, num_place = len(user_to_user_encoded), len(place_to_place_encoded)\n",
    "\n",
    "\n",
    "\n",
    "#Loading model and saved weights\n",
    "loaded_model = RecommenderNet(num_users, num_place)\n",
    "loaded_model.compile(loss=tf.keras.losses.BinaryCrossentropy(),\n",
    "                     optimizer=keras.optimizers.Adam(learning_rate=0.001))\n",
    "loaded_model.load_weights('model_checkpoint/model_weights')\n",
    "\n",
    "\n",
    "# Inputan User yang akan dicari recomendasinya\n",
    "user_id = test.id_user.iloc[0]\n",
    "place_visited_by_user = df[df.id_user == user_id]\n",
    "\n",
    "# Membuat data lokasi yang belum dikunjungi user\n",
    "place_not_visited = place_df[~place_df['id'].isin(place_visited_by_user.id_wisata.values)]['id'] \n",
    "place_not_visited = list(\n",
    "    set(place_not_visited)\n",
    "    .intersection(set(place_to_place_encoded.keys()))\n",
    ")\n",
    " \n",
    "place_not_visited = [[place_to_place_encoded.get(x)] for x in place_not_visited]\n",
    "user_encoder = user_to_user_encoded.get(user_id)\n",
    "user_place_array = np.hstack(\n",
    "    ([[user_encoder]] * len(place_not_visited), place_not_visited)\n",
    ")\n",
    "\n",
    "# Mengambil top 5 recommendation\n",
    "ratings = loaded_model.predict(user_place_array).flatten()\n",
    "top_ratings_indices = ratings.argsort()[-5:][::-1]\n",
    "recommended_place_ids = [\n",
    "    place_encoded_to_place.get(place_not_visited[x][0]) for x in top_ratings_indices\n",
    "]\n",
    "\n",
    "#get the anime_id's, so we can make a request to anilist api for more info on show\n",
    "recommended_place = place_df[place_df['id'].isin(recommended_place_ids)]"
   ]
  },
  {
   "cell_type": "code",
   "execution_count": 29,
   "id": "39f40739-c5d0-4b9a-bf96-be4c5c2def5b",
   "metadata": {},
   "outputs": [
    {
     "data": {
      "text/html": [
       "<div>\n",
       "<style scoped>\n",
       "    .dataframe tbody tr th:only-of-type {\n",
       "        vertical-align: middle;\n",
       "    }\n",
       "\n",
       "    .dataframe tbody tr th {\n",
       "        vertical-align: top;\n",
       "    }\n",
       "\n",
       "    .dataframe thead th {\n",
       "        text-align: right;\n",
       "    }\n",
       "</style>\n",
       "<table border=\"1\" class=\"dataframe\">\n",
       "  <thead>\n",
       "    <tr style=\"text-align: right;\">\n",
       "      <th></th>\n",
       "      <th>id</th>\n",
       "      <th>place_name</th>\n",
       "    </tr>\n",
       "  </thead>\n",
       "  <tbody>\n",
       "    <tr>\n",
       "      <th>3</th>\n",
       "      <td>104</td>\n",
       "      <td>Pulau Seribu</td>\n",
       "    </tr>\n",
       "    <tr>\n",
       "      <th>5</th>\n",
       "      <td>106</td>\n",
       "      <td>Taman Nasional Bromo Tengger Semeru</td>\n",
       "    </tr>\n",
       "    <tr>\n",
       "      <th>6</th>\n",
       "      <td>107</td>\n",
       "      <td>Pantai Kuta Mandalika</td>\n",
       "    </tr>\n",
       "    <tr>\n",
       "      <th>8</th>\n",
       "      <td>109</td>\n",
       "      <td>Wakatobi</td>\n",
       "    </tr>\n",
       "    <tr>\n",
       "      <th>9</th>\n",
       "      <td>110</td>\n",
       "      <td>Morotai</td>\n",
       "    </tr>\n",
       "  </tbody>\n",
       "</table>\n",
       "</div>"
      ],
      "text/plain": [
       "    id                           place_name\n",
       "3  104                         Pulau Seribu\n",
       "5  106  Taman Nasional Bromo Tengger Semeru\n",
       "6  107                Pantai Kuta Mandalika\n",
       "8  109                             Wakatobi\n",
       "9  110                              Morotai"
      ]
     },
     "execution_count": 29,
     "metadata": {},
     "output_type": "execute_result"
    }
   ],
   "source": [
    "recommended_place"
   ]
  },
  {
   "cell_type": "code",
   "execution_count": 42,
   "id": "69a1414f-4bc8-4c66-87db-54f7e93b5d8b",
   "metadata": {},
   "outputs": [],
   "source": [
    "rp2= recommended_place.copy()\n",
    "test = test.id_user.iloc[0]\n",
    "kode_user=[]\n",
    "for i in range(len(rp2)):\n",
    "    kode_user.append(test)\n",
    "rp2['kode_user'] = kode_user"
   ]
  },
  {
   "cell_type": "code",
   "execution_count": 43,
   "id": "33040583-f2bd-47ce-a159-f1f312895d0c",
   "metadata": {},
   "outputs": [],
   "source": [
    "rp2['id_rek'] = \"\""
   ]
  },
  {
   "cell_type": "code",
   "execution_count": 46,
   "id": "c09afe27-1e99-492f-a1e6-4e524d6c36c1",
   "metadata": {},
   "outputs": [],
   "source": [
    "rp2 = rp2[[\"id_rek\", \"kode_user\", \"id\"]]"
   ]
  },
  {
   "cell_type": "code",
   "execution_count": 47,
   "id": "96cc088e-d36d-4f8e-a643-493f728e1482",
   "metadata": {},
   "outputs": [],
   "source": [
    "rp2.columns = [\"id_rek\", \"kode_user\", \"kode_wisata\"]"
   ]
  },
  {
   "cell_type": "code",
   "execution_count": 50,
   "id": "b37cd86c-70f7-436d-84b7-f853d2ae4f30",
   "metadata": {},
   "outputs": [
    {
     "data": {
      "text/html": [
       "<div>\n",
       "<style scoped>\n",
       "    .dataframe tbody tr th:only-of-type {\n",
       "        vertical-align: middle;\n",
       "    }\n",
       "\n",
       "    .dataframe tbody tr th {\n",
       "        vertical-align: top;\n",
       "    }\n",
       "\n",
       "    .dataframe thead th {\n",
       "        text-align: right;\n",
       "    }\n",
       "</style>\n",
       "<table border=\"1\" class=\"dataframe\">\n",
       "  <thead>\n",
       "    <tr style=\"text-align: right;\">\n",
       "      <th></th>\n",
       "      <th>id_rek</th>\n",
       "      <th>kode_user</th>\n",
       "      <th>kode_wisata</th>\n",
       "    </tr>\n",
       "  </thead>\n",
       "  <tbody>\n",
       "    <tr>\n",
       "      <th>3</th>\n",
       "      <td></td>\n",
       "      <td>1020</td>\n",
       "      <td>104</td>\n",
       "    </tr>\n",
       "    <tr>\n",
       "      <th>5</th>\n",
       "      <td></td>\n",
       "      <td>1020</td>\n",
       "      <td>106</td>\n",
       "    </tr>\n",
       "    <tr>\n",
       "      <th>6</th>\n",
       "      <td></td>\n",
       "      <td>1020</td>\n",
       "      <td>107</td>\n",
       "    </tr>\n",
       "    <tr>\n",
       "      <th>8</th>\n",
       "      <td></td>\n",
       "      <td>1020</td>\n",
       "      <td>109</td>\n",
       "    </tr>\n",
       "    <tr>\n",
       "      <th>9</th>\n",
       "      <td></td>\n",
       "      <td>1020</td>\n",
       "      <td>110</td>\n",
       "    </tr>\n",
       "  </tbody>\n",
       "</table>\n",
       "</div>"
      ],
      "text/plain": [
       "  id_rek  kode_user  kode_wisata\n",
       "3              1020          104\n",
       "5              1020          106\n",
       "6              1020          107\n",
       "8              1020          109\n",
       "9              1020          110"
      ]
     },
     "execution_count": 50,
     "metadata": {},
     "output_type": "execute_result"
    }
   ],
   "source": [
    "rp2.head()"
   ]
  },
  {
   "cell_type": "code",
   "execution_count": 54,
   "id": "b463dbbf-47ac-4dee-af3b-be229fd3fa72",
   "metadata": {},
   "outputs": [],
   "source": [
    "import pymysql\n",
    "\n",
    "# Connect to the database\n",
    "connection = pymysql.connect(host=\"127.0.0.1\",\n",
    "                             port=3306,\n",
    "                             user='root',\n",
    "                             # password='f#Ur8J3N',\n",
    "                             database='tour_in')\n",
    "\n",
    "# create cursor\n",
    "cursor=connection.cursor()\n",
    "\n",
    "cols = \"`,`\".join([str(i) for i in rp2.columns.tolist()])\n",
    "for i,row in rp2.iterrows():\n",
    "    sql = \"UPDATE INTO `list_rekomen` (`\" +cols + \"`) VALUES (\" + \"%s,\"*(len(row)-1) + \"%s)\"\n",
    "    cursor.execute(sql, tuple(row))\n",
    "\n",
    "    # the connection is not autocommitted by default, so we must commit to save our changes\n",
    "    connection.commit()"
   ]
  },
  {
   "cell_type": "code",
   "execution_count": 86,
   "id": "8113ddce-b15e-4e95-9a32-812291727bf6",
   "metadata": {},
   "outputs": [],
   "source": [
    "def testing(test):\n",
    "    def dict_encoder(col, data=df):\n",
    "        # Mengubah kolom suatu dataframe menjadi list tanpa nilai yang sama\n",
    "        unique_val = data[col].unique().tolist()\n",
    "\n",
    "        # Melakukan encoding value kolom suatu dataframe ke angka\n",
    "        val_to_val_encoded = {x: i for i, x in enumerate(unique_val)}\n",
    "    \n",
    "        # Melakukan proses encoding angka ke value dari kolom suatu dataframe\n",
    "        val_encoded_to_val = {i: x for i, x in enumerate(unique_val)}    \n",
    "        return val_to_val_encoded, val_encoded_to_val\n",
    "        #Encoding dan Mapping Kolom User\n",
    "    #Encoding dan Mapping Kolom User\n",
    "    # Encoding User_Id\n",
    "    user_to_user_encoded, user_encoded_to_user = dict_encoder('id_user')\n",
    "\n",
    "    # Mapping User_Id ke dataframe\n",
    "    df['user'] = df['id_user'].map(user_to_user_encoded)\n",
    "\n",
    "    # Encoding dan Mapping Kolom Place\n",
    "\n",
    "    # Encoding Place_Id\n",
    "    place_to_place_encoded, place_encoded_to_place = dict_encoder('id_wisata')\n",
    "\n",
    "    # Mapping Place_Id ke dataframe place\n",
    "    df['place'] = df['id_wisata'].map(place_to_place_encoded)\n",
    "\n",
    "    #setting parameters for model\n",
    "    num_users, num_place = len(user_to_user_encoded), len(place_to_place_encoded)\n",
    "\n",
    "\n",
    "\n",
    "    #Loading model and saved weights\n",
    "    loaded_model = RecommenderNet(num_users, num_place)\n",
    "    loaded_model.compile(loss=tf.keras.losses.BinaryCrossentropy(),\n",
    "                         optimizer=keras.optimizers.Adam(learning_rate=0.001))\n",
    "    loaded_model.load_weights('model_checkpoint/model_weights')\n",
    "\n",
    "\n",
    "    # Inputan User yang akan dicari recomendasinya\n",
    "    user_id = test.id_user.iloc[0]\n",
    "    place_visited_by_user = df[df.id_user == user_id]\n",
    "\n",
    "    # Membuat data lokasi yang belum dikunjungi user\n",
    "    place_not_visited = place_df[~place_df['id'].isin(place_visited_by_user.id_wisata.values)]['id'] \n",
    "    place_not_visited = list(\n",
    "        set(place_not_visited)\n",
    "        .intersection(set(place_to_place_encoded.keys()))\n",
    "    )\n",
    " \n",
    "    place_not_visited = [[place_to_place_encoded.get(x)] for x in place_not_visited]\n",
    "    user_encoder = user_to_user_encoded.get(user_id)\n",
    "    user_place_array = np.hstack(\n",
    "        ([[user_encoder]] * len(place_not_visited), place_not_visited)\n",
    "    )\n",
    "\n",
    "    # Mengambil top 7 recommendation\n",
    "    ratings = loaded_model.predict(user_place_array).flatten()\n",
    "    top_ratings_indices = ratings.argsort()[-5:][::-1]\n",
    "    recommended_place_ids = [\n",
    "        place_encoded_to_place.get(place_not_visited[x][0]) for x in top_ratings_indices\n",
    "    ]\n",
    "\n",
    "    #get the anime_id's, so we can make a request to anilist api for more info on show\n",
    "    recommended_place = place_df[place_df['id'].isin(recommended_place_ids)]\n",
    "    \n",
    "    \n",
    "    \n",
    "    cols = \"`,`\".join([str(i) for i in data.columns.tolist()])\n",
    "    \n",
    "    \n",
    "    return recommended_place"
   ]
  },
  {
   "cell_type": "code",
   "execution_count": null,
   "id": "2909df39-075d-4a43-bb19-a8366902d382",
   "metadata": {},
   "outputs": [],
   "source": []
  },
  {
   "cell_type": "code",
   "execution_count": 97,
   "id": "dc73656f-b30c-4d2e-8b4b-04918025c403",
   "metadata": {},
   "outputs": [
    {
     "ename": "ValueError",
     "evalue": "Failed to convert a NumPy array to a Tensor (Unsupported object type NoneType).",
     "output_type": "error",
     "traceback": [
      "\u001b[1;31m---------------------------------------------------------------------------\u001b[0m",
      "\u001b[1;31mValueError\u001b[0m                                Traceback (most recent call last)",
      "Cell \u001b[1;32mIn [97], line 3\u001b[0m\n\u001b[0;32m      1\u001b[0m \u001b[38;5;28;01mfor\u001b[39;00m i \u001b[38;5;129;01min\u001b[39;00m test:\n\u001b[0;32m      2\u001b[0m     test\u001b[38;5;241m=\u001b[39mpd\u001b[38;5;241m.\u001b[39mDataFrame([i], columns\u001b[38;5;241m=\u001b[39m[\u001b[38;5;124m'\u001b[39m\u001b[38;5;124mid_user\u001b[39m\u001b[38;5;124m'\u001b[39m])\n\u001b[1;32m----> 3\u001b[0m     \u001b[43mtesting\u001b[49m\u001b[43m(\u001b[49m\u001b[43mtest\u001b[49m\u001b[43m)\u001b[49m\n",
      "Cell \u001b[1;32mIn [86], line 59\u001b[0m, in \u001b[0;36mtesting\u001b[1;34m(test)\u001b[0m\n\u001b[0;32m     54\u001b[0m user_place_array \u001b[38;5;241m=\u001b[39m np\u001b[38;5;241m.\u001b[39mhstack(\n\u001b[0;32m     55\u001b[0m     ([[user_encoder]] \u001b[38;5;241m*\u001b[39m \u001b[38;5;28mlen\u001b[39m(place_not_visited), place_not_visited)\n\u001b[0;32m     56\u001b[0m )\n\u001b[0;32m     58\u001b[0m \u001b[38;5;66;03m# Mengambil top 7 recommendation\u001b[39;00m\n\u001b[1;32m---> 59\u001b[0m ratings \u001b[38;5;241m=\u001b[39m \u001b[43mloaded_model\u001b[49m\u001b[38;5;241;43m.\u001b[39;49m\u001b[43mpredict\u001b[49m\u001b[43m(\u001b[49m\u001b[43muser_place_array\u001b[49m\u001b[43m)\u001b[49m\u001b[38;5;241m.\u001b[39mflatten()\n\u001b[0;32m     60\u001b[0m top_ratings_indices \u001b[38;5;241m=\u001b[39m ratings\u001b[38;5;241m.\u001b[39margsort()[\u001b[38;5;241m-\u001b[39m\u001b[38;5;241m5\u001b[39m:][::\u001b[38;5;241m-\u001b[39m\u001b[38;5;241m1\u001b[39m]\n\u001b[0;32m     61\u001b[0m recommended_place_ids \u001b[38;5;241m=\u001b[39m [\n\u001b[0;32m     62\u001b[0m     place_encoded_to_place\u001b[38;5;241m.\u001b[39mget(place_not_visited[x][\u001b[38;5;241m0\u001b[39m]) \u001b[38;5;28;01mfor\u001b[39;00m x \u001b[38;5;129;01min\u001b[39;00m top_ratings_indices\n\u001b[0;32m     63\u001b[0m ]\n",
      "File \u001b[1;32mC:\\Data Scientist\\recomendation-main\\recomendation-main\\rec\\lib\\site-packages\\keras\\utils\\traceback_utils.py:70\u001b[0m, in \u001b[0;36mfilter_traceback.<locals>.error_handler\u001b[1;34m(*args, **kwargs)\u001b[0m\n\u001b[0;32m     67\u001b[0m     filtered_tb \u001b[38;5;241m=\u001b[39m _process_traceback_frames(e\u001b[38;5;241m.\u001b[39m__traceback__)\n\u001b[0;32m     68\u001b[0m     \u001b[38;5;66;03m# To get the full stack trace, call:\u001b[39;00m\n\u001b[0;32m     69\u001b[0m     \u001b[38;5;66;03m# `tf.debugging.disable_traceback_filtering()`\u001b[39;00m\n\u001b[1;32m---> 70\u001b[0m     \u001b[38;5;28;01mraise\u001b[39;00m e\u001b[38;5;241m.\u001b[39mwith_traceback(filtered_tb) \u001b[38;5;28;01mfrom\u001b[39;00m \u001b[38;5;28mNone\u001b[39m\n\u001b[0;32m     71\u001b[0m \u001b[38;5;28;01mfinally\u001b[39;00m:\n\u001b[0;32m     72\u001b[0m     \u001b[38;5;28;01mdel\u001b[39;00m filtered_tb\n",
      "File \u001b[1;32mC:\\Data Scientist\\recomendation-main\\recomendation-main\\rec\\lib\\site-packages\\tensorflow\\python\\framework\\constant_op.py:102\u001b[0m, in \u001b[0;36mconvert_to_eager_tensor\u001b[1;34m(value, ctx, dtype)\u001b[0m\n\u001b[0;32m    100\u001b[0m     dtype \u001b[38;5;241m=\u001b[39m dtypes\u001b[38;5;241m.\u001b[39mas_dtype(dtype)\u001b[38;5;241m.\u001b[39mas_datatype_enum\n\u001b[0;32m    101\u001b[0m ctx\u001b[38;5;241m.\u001b[39mensure_initialized()\n\u001b[1;32m--> 102\u001b[0m \u001b[38;5;28;01mreturn\u001b[39;00m \u001b[43mops\u001b[49m\u001b[38;5;241;43m.\u001b[39;49m\u001b[43mEagerTensor\u001b[49m\u001b[43m(\u001b[49m\u001b[43mvalue\u001b[49m\u001b[43m,\u001b[49m\u001b[43m \u001b[49m\u001b[43mctx\u001b[49m\u001b[38;5;241;43m.\u001b[39;49m\u001b[43mdevice_name\u001b[49m\u001b[43m,\u001b[49m\u001b[43m \u001b[49m\u001b[43mdtype\u001b[49m\u001b[43m)\u001b[49m\n",
      "\u001b[1;31mValueError\u001b[0m: Failed to convert a NumPy array to a Tensor (Unsupported object type NoneType)."
     ]
    }
   ],
   "source": [
    "for i in test:\n",
    "    test=pd.DataFrame([i], columns=['id_user'])\n",
    "    testing(test)"
   ]
  },
  {
   "cell_type": "code",
   "execution_count": null,
   "id": "f055714d-b96e-4478-b43d-c4298c28f335",
   "metadata": {},
   "outputs": [],
   "source": []
  },
  {
   "cell_type": "code",
   "execution_count": null,
   "id": "c5ba5f3a-c24e-4376-9e3d-8d0c7efd91fd",
   "metadata": {},
   "outputs": [],
   "source": []
  },
  {
   "cell_type": "code",
   "execution_count": 1,
   "id": "5ce09179-4a97-4e32-b64f-d7f1d943f8a6",
   "metadata": {},
   "outputs": [
    {
     "ename": "PermissionError",
     "evalue": "[WinError 5] Access is denied: './model_checkpoint/model_weights.data-00000-of-00001'",
     "output_type": "error",
     "traceback": [
      "\u001b[1;31m---------------------------------------------------------------------------\u001b[0m",
      "\u001b[1;31mPermissionError\u001b[0m                           Traceback (most recent call last)",
      "Cell \u001b[1;32mIn [1], line 5\u001b[0m\n\u001b[0;32m      3\u001b[0m \u001b[38;5;28;01mfor\u001b[39;00m root, dirs, files \u001b[38;5;129;01min\u001b[39;00m os\u001b[38;5;241m.\u001b[39mwalk(mypath, topdown\u001b[38;5;241m=\u001b[39m\u001b[38;5;28;01mFalse\u001b[39;00m):\n\u001b[0;32m      4\u001b[0m     \u001b[38;5;28;01mfor\u001b[39;00m file \u001b[38;5;129;01min\u001b[39;00m files:\n\u001b[1;32m----> 5\u001b[0m         \u001b[43mos\u001b[49m\u001b[38;5;241;43m.\u001b[39;49m\u001b[43mremove\u001b[49m\u001b[43m(\u001b[49m\u001b[43mos\u001b[49m\u001b[38;5;241;43m.\u001b[39;49m\u001b[43mpath\u001b[49m\u001b[38;5;241;43m.\u001b[39;49m\u001b[43mjoin\u001b[49m\u001b[43m(\u001b[49m\u001b[43mroot\u001b[49m\u001b[43m,\u001b[49m\u001b[43m \u001b[49m\u001b[43mfile\u001b[49m\u001b[43m)\u001b[49m\u001b[43m)\u001b[49m\n\u001b[0;32m      7\u001b[0m     \u001b[38;5;66;03m# Add this block to remove folders\u001b[39;00m\n\u001b[0;32m      8\u001b[0m     \u001b[38;5;28;01mfor\u001b[39;00m \u001b[38;5;28mdir\u001b[39m \u001b[38;5;129;01min\u001b[39;00m dirs:\n",
      "\u001b[1;31mPermissionError\u001b[0m: [WinError 5] Access is denied: './model_checkpoint/model_weights.data-00000-of-00001'"
     ]
    }
   ],
   "source": [
    "import os\n",
    "mypath = \"./model_checkpoint/\" #Enter your path here\n",
    "for root, dirs, files in os.walk(mypath, topdown=False):\n",
    "    for file in files:\n",
    "        os.remove(os.path.join(root, file))\n",
    "\n",
    "    # Add this block to remove folders\n",
    "    for dir in dirs:\n",
    "        os.rmdir(os.path.join(root, dir))\n",
    "\n",
    "# # Add this line to remove the root folder at the end\n",
    "# os.chmod(mypath, 0o0777)\n",
    "# os.rmdir(mypath)"
   ]
  },
  {
   "cell_type": "code",
   "execution_count": 4,
   "id": "d4e891ef-3c7c-46ac-8fc2-5a40176b6c89",
   "metadata": {},
   "outputs": [
    {
     "data": {
      "text/plain": [
       "'12:57'"
      ]
     },
     "execution_count": 4,
     "metadata": {},
     "output_type": "execute_result"
    }
   ],
   "source": [
    "import time\n",
    "\n",
    "t=time.strftime('%H:%M')\n",
    "t"
   ]
  },
  {
   "cell_type": "code",
   "execution_count": null,
   "id": "c9e5427f-dd48-458c-be09-89437b6a8d96",
   "metadata": {},
   "outputs": [],
   "source": []
  },
  {
   "cell_type": "code",
   "execution_count": null,
   "id": "7ab261cd-cd4a-4ce7-a8fc-f2d2f7937278",
   "metadata": {},
   "outputs": [],
   "source": []
  },
  {
   "cell_type": "code",
   "execution_count": null,
   "id": "4ddf698d-5bfe-4946-aafd-4bde42da4e31",
   "metadata": {},
   "outputs": [],
   "source": []
  },
  {
   "cell_type": "code",
   "execution_count": null,
   "id": "492e24f7-3468-4447-a874-7331fff848cc",
   "metadata": {},
   "outputs": [],
   "source": []
  }
 ],
 "metadata": {
  "kernelspec": {
   "display_name": "rec",
   "language": "python",
   "name": "rec"
  },
  "language_info": {
   "codemirror_mode": {
    "name": "ipython",
    "version": 3
   },
   "file_extension": ".py",
   "mimetype": "text/x-python",
   "name": "python",
   "nbconvert_exporter": "python",
   "pygments_lexer": "ipython3",
   "version": "3.9.4"
  }
 },
 "nbformat": 4,
 "nbformat_minor": 5
}

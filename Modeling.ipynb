{
 "cells": [
  {
   "cell_type": "code",
   "execution_count": 1,
   "id": "b6fe7ed5-d825-4fad-a693-584f1da39855",
   "metadata": {},
   "outputs": [],
   "source": [
    "# Untuk pengolahan data\n",
    "import pandas as pd\n",
    "import numpy as np\n",
    "from zipfile import ZipFile\n",
    "from pathlib import Path\n",
    "\n",
    "# Untuk visualisasi data\n",
    "import seaborn as sns\n",
    "import matplotlib.pyplot as plt\n",
    "\n",
    "%matplotlib inline\n",
    "sns.set_palette('Set1')\n",
    "sns.set()\n",
    "\n",
    "# Untuk pemodelan\n",
    "import tensorflow as tf\n",
    "from tensorflow import keras\n",
    "from tensorflow.keras import layers\n",
    "\n",
    "# Untuk menghilangkan warnings saat plotting seaborn\n",
    "import warnings\n",
    "warnings.filterwarnings('ignore')\n",
    "\n",
    "# Untuk mengupload file\n",
    "import os"
   ]
  },
  {
   "cell_type": "code",
   "execution_count": null,
   "id": "910a69d5-b2ca-4ff3-a632-ec38be7708d8",
   "metadata": {},
   "outputs": [],
   "source": []
  },
  {
   "cell_type": "markdown",
   "id": "93f5798b-0600-4044-8be6-bd874243ae3f",
   "metadata": {},
   "source": [
    "# Menyiapkan Dataset yang digunakan"
   ]
  },
  {
   "cell_type": "code",
   "execution_count": 2,
   "id": "b69c1d41-69ea-49fe-8b9c-183e49405c6f",
   "metadata": {},
   "outputs": [
    {
     "name": "stdout",
     "output_type": "stream",
     "text": [
      "Dataset/list_wisata.csv\n",
      "Dataset/list_wisata_db.csv\n",
      "Dataset/rating.csv\n",
      "Dataset/rating2.csv\n",
      "Dataset/rating_fe.csv\n",
      "Dataset/users.csv\n",
      "Dataset/.ipynb_checkpoints\\list_wisata-checkpoint.csv\n",
      "Dataset/.ipynb_checkpoints\\rating-checkpoint.csv\n",
      "Dataset/.ipynb_checkpoints\\Tempat_Wisata_Bali_Baru-checkpoint.csv\n",
      "Dataset/.ipynb_checkpoints\\user-checkpoint.csv\n",
      "Dataset/.ipynb_checkpoints\\users-checkpoint.csv\n"
     ]
    }
   ],
   "source": [
    "# Upload semua dataset yang dipakai\n",
    "for dirname, _, filenames in os.walk('Dataset/'):\n",
    "    for filename in filenames:\n",
    "        print(os.path.join(dirname, filename))"
   ]
  },
  {
   "cell_type": "markdown",
   "id": "7f9763ec-6ed0-41fb-9ea3-979dae1615b3",
   "metadata": {},
   "source": [
    "# Data Understanding"
   ]
  },
  {
   "cell_type": "markdown",
   "id": "5b888971-f5b0-44fc-b5aa-db068b83ffb4",
   "metadata": {},
   "source": [
    "## Menyiapkan Data"
   ]
  },
  {
   "cell_type": "code",
   "execution_count": 3,
   "id": "807c7d42-1dee-480e-913e-6a8fa50035c5",
   "metadata": {},
   "outputs": [],
   "source": [
    "# Menyimpan masing-masing dataset kedalam variabel\n",
    "\n",
    "rating = pd.read_csv('Dataset/rating_fe.csv')\n",
    "place = pd.read_csv('Dataset/list_wisata_db.csv', delimiter=',')\n",
    "#user = pd.read_csv('Dataset/users.csv')"
   ]
  },
  {
   "cell_type": "code",
   "execution_count": 17,
   "id": "e59155f6-bce7-4733-82df-280587736b71",
   "metadata": {},
   "outputs": [],
   "source": [
    "place.columns=[\"id_wisata\",\"place_name\"]"
   ]
  },
  {
   "cell_type": "markdown",
   "id": "df7d60fb-ac71-44ae-82ce-ff14605b678b",
   "metadata": {},
   "source": [
    "Keterangan:\n",
    "place - mengandung informasi tempat wisata bali baru\n",
    "user - mengandung informasi pengguna untuk membuat rekomendasi fitur berdasar pengguna\n",
    "rating - mengandung informasi pengguna, tempat wisata, dan rating untuk membuat sistem rekomendasi berdasar rating"
   ]
  },
  {
   "cell_type": "markdown",
   "id": "325cb17c-9b7c-4d06-842e-726d6e092d53",
   "metadata": {},
   "source": [
    "## Eksplorasi Fitur-fitur pada Data"
   ]
  },
  {
   "cell_type": "markdown",
   "id": "3fca106a-f0e3-4b43-9f21-28b206f5c8cd",
   "metadata": {},
   "source": [
    "### Data rating"
   ]
  },
  {
   "cell_type": "code",
   "execution_count": 4,
   "id": "efeefd17-c436-4365-aba9-9f8dbedb59b5",
   "metadata": {},
   "outputs": [
    {
     "data": {
      "text/html": [
       "<div>\n",
       "<style scoped>\n",
       "    .dataframe tbody tr th:only-of-type {\n",
       "        vertical-align: middle;\n",
       "    }\n",
       "\n",
       "    .dataframe tbody tr th {\n",
       "        vertical-align: top;\n",
       "    }\n",
       "\n",
       "    .dataframe thead th {\n",
       "        text-align: right;\n",
       "    }\n",
       "</style>\n",
       "<table border=\"1\" class=\"dataframe\">\n",
       "  <thead>\n",
       "    <tr style=\"text-align: right;\">\n",
       "      <th></th>\n",
       "      <th>id_user</th>\n",
       "      <th>id_wisata</th>\n",
       "      <th>rating</th>\n",
       "    </tr>\n",
       "  </thead>\n",
       "  <tbody>\n",
       "    <tr>\n",
       "      <th>0</th>\n",
       "      <td>1004</td>\n",
       "      <td>101</td>\n",
       "      <td>4.0</td>\n",
       "    </tr>\n",
       "    <tr>\n",
       "      <th>1</th>\n",
       "      <td>1004</td>\n",
       "      <td>102</td>\n",
       "      <td>5.0</td>\n",
       "    </tr>\n",
       "    <tr>\n",
       "      <th>2</th>\n",
       "      <td>1004</td>\n",
       "      <td>103</td>\n",
       "      <td>4.0</td>\n",
       "    </tr>\n",
       "    <tr>\n",
       "      <th>3</th>\n",
       "      <td>1004</td>\n",
       "      <td>104</td>\n",
       "      <td>5.0</td>\n",
       "    </tr>\n",
       "    <tr>\n",
       "      <th>4</th>\n",
       "      <td>1004</td>\n",
       "      <td>105</td>\n",
       "      <td>3.0</td>\n",
       "    </tr>\n",
       "  </tbody>\n",
       "</table>\n",
       "</div>"
      ],
      "text/plain": [
       "   id_user  id_wisata  rating\n",
       "0     1004        101     4.0\n",
       "1     1004        102     5.0\n",
       "2     1004        103     4.0\n",
       "3     1004        104     5.0\n",
       "4     1004        105     3.0"
      ]
     },
     "execution_count": 4,
     "metadata": {},
     "output_type": "execute_result"
    }
   ],
   "source": [
    "rating.head()"
   ]
  },
  {
   "cell_type": "code",
   "execution_count": 5,
   "id": "1f88c81d-ac26-4108-bc32-2ff32d675bdb",
   "metadata": {},
   "outputs": [
    {
     "name": "stdout",
     "output_type": "stream",
     "text": [
      "<class 'pandas.core.frame.DataFrame'>\n",
      "RangeIndex: 134 entries, 0 to 133\n",
      "Data columns (total 3 columns):\n",
      " #   Column     Non-Null Count  Dtype  \n",
      "---  ------     --------------  -----  \n",
      " 0   id_user    134 non-null    int64  \n",
      " 1   id_wisata  134 non-null    int64  \n",
      " 2   rating     134 non-null    float64\n",
      "dtypes: float64(1), int64(2)\n",
      "memory usage: 3.3 KB\n"
     ]
    }
   ],
   "source": [
    "rating.info()"
   ]
  },
  {
   "cell_type": "code",
   "execution_count": 99,
   "id": "2dbf20c2-6e82-41c3-a35f-5d5373761702",
   "metadata": {},
   "outputs": [
    {
     "data": {
      "text/plain": [
       "array([  1,   2,   3,   4,   5,   6,   7,   8,   9,  10,  11,  12,  13,\n",
       "        14,  15,  16,  17,  18,  19,  20,  21,  22,  23,  24,  25,  26,\n",
       "        27,  28,  29,  30,  31,  32,  33,  34,  35,  36,  37,  38,  39,\n",
       "        40,  41,  42,  43,  44,  45,  46,  47,  48,  49,  50,  51,  52,\n",
       "        53,  54,  55,  56,  57,  58,  59,  60,  61,  62,  63,  64,  65,\n",
       "        66,  67,  68,  69,  70,  71,  72,  73,  74,  75,  76,  77,  78,\n",
       "        79,  80,  81,  82,  83,  84,  85,  86,  87,  88,  89,  90,  91,\n",
       "        92,  93,  94,  95,  96,  97,  98,  99, 100, 101, 102, 103, 104,\n",
       "       105, 106, 107, 108, 109, 110, 111, 112, 113, 114, 115, 116, 117,\n",
       "       118, 119, 120, 121, 122, 123, 124, 125, 126, 127, 128, 129, 130,\n",
       "       131, 132, 133, 134, 135, 136, 137, 138, 139, 140, 141, 142, 143,\n",
       "       144, 145, 146, 147, 148, 149, 150, 151, 152, 153, 154, 155, 156,\n",
       "       157, 158, 159, 160, 161, 162, 163, 164, 165, 166, 167, 168, 169,\n",
       "       170, 171, 172, 173, 174, 175, 176, 177, 178, 179, 180, 181, 182,\n",
       "       183, 184, 185, 186, 187, 188, 189, 190, 191, 192, 193, 194, 195,\n",
       "       196, 197, 198, 199, 200, 201, 202, 203, 204, 205, 206, 207, 208,\n",
       "       209, 210, 211, 212, 213, 214, 215, 216, 217, 218, 219, 220, 221,\n",
       "       222, 223, 224, 225, 226, 227, 228, 229, 230, 231, 232, 233, 234,\n",
       "       235, 236, 237, 238, 239, 240, 241, 242, 243, 244, 245, 246, 247,\n",
       "       248, 249, 250, 251, 252, 253, 254, 255, 256, 257, 258, 259, 260,\n",
       "       261, 262, 263, 264, 265, 266, 267, 268, 269, 270, 271, 272, 273,\n",
       "       274, 275, 276, 277, 278, 279, 280, 281, 282, 283, 284, 285, 286,\n",
       "       287, 288, 289, 290, 291, 292, 293, 294, 295, 296, 297, 298, 299,\n",
       "       300, 301], dtype=int64)"
      ]
     },
     "execution_count": 99,
     "metadata": {},
     "output_type": "execute_result"
    }
   ],
   "source": [
    "rating['id_user'].unique()"
   ]
  },
  {
   "cell_type": "code",
   "execution_count": 96,
   "id": "80b207aa-b79b-4e7e-a1ab-a595cdb89a84",
   "metadata": {},
   "outputs": [
    {
     "name": "stdout",
     "output_type": "stream",
     "text": [
      "<class 'pandas.core.frame.DataFrame'>\n",
      "RangeIndex: 10001 entries, 0 to 10000\n",
      "Data columns (total 3 columns):\n",
      " #   Column     Non-Null Count  Dtype\n",
      "---  ------     --------------  -----\n",
      " 0   id_user    10001 non-null  int64\n",
      " 1   id_wisata  10001 non-null  int64\n",
      " 2   rating     10001 non-null  int64\n",
      "dtypes: int64(3)\n",
      "memory usage: 234.5 KB\n"
     ]
    }
   ],
   "source": [
    "rating.info()"
   ]
  },
  {
   "cell_type": "code",
   "execution_count": 97,
   "id": "82898582-bb3b-4f5c-b804-9afdd83a47fb",
   "metadata": {},
   "outputs": [
    {
     "data": {
      "text/plain": [
       "False"
      ]
     },
     "execution_count": 97,
     "metadata": {},
     "output_type": "execute_result"
    }
   ],
   "source": [
    "# cek null value\n",
    "rating.isnull().values.any()"
   ]
  },
  {
   "cell_type": "markdown",
   "id": "1ac2bbe4-8c38-4b3b-8e93-62d3296e80b8",
   "metadata": {},
   "source": [
    "### Data place"
   ]
  },
  {
   "cell_type": "code",
   "execution_count": 13,
   "id": "3a054a07-6363-4403-9610-a5fe3cc54742",
   "metadata": {},
   "outputs": [
    {
     "data": {
      "text/html": [
       "<div>\n",
       "<style scoped>\n",
       "    .dataframe tbody tr th:only-of-type {\n",
       "        vertical-align: middle;\n",
       "    }\n",
       "\n",
       "    .dataframe tbody tr th {\n",
       "        vertical-align: top;\n",
       "    }\n",
       "\n",
       "    .dataframe thead tr th {\n",
       "        text-align: left;\n",
       "    }\n",
       "</style>\n",
       "<table border=\"1\" class=\"dataframe\">\n",
       "  <thead>\n",
       "    <tr>\n",
       "      <th></th>\n",
       "      <th>id_wisata</th>\n",
       "      <th>place_name</th>\n",
       "    </tr>\n",
       "  </thead>\n",
       "  <tbody>\n",
       "    <tr>\n",
       "      <th>0</th>\n",
       "      <td>101</td>\n",
       "      <td>Danau Toba</td>\n",
       "    </tr>\n",
       "    <tr>\n",
       "      <th>1</th>\n",
       "      <td>102</td>\n",
       "      <td>Pantai Tanjung Kelayang</td>\n",
       "    </tr>\n",
       "    <tr>\n",
       "      <th>2</th>\n",
       "      <td>103</td>\n",
       "      <td>Pantai Tanjung Lesung</td>\n",
       "    </tr>\n",
       "    <tr>\n",
       "      <th>3</th>\n",
       "      <td>104</td>\n",
       "      <td>Pulau Seribu</td>\n",
       "    </tr>\n",
       "    <tr>\n",
       "      <th>4</th>\n",
       "      <td>105</td>\n",
       "      <td>Candi Borobudur</td>\n",
       "    </tr>\n",
       "    <tr>\n",
       "      <th>5</th>\n",
       "      <td>106</td>\n",
       "      <td>Taman Nasional Bromo Tengger Semeru</td>\n",
       "    </tr>\n",
       "    <tr>\n",
       "      <th>6</th>\n",
       "      <td>107</td>\n",
       "      <td>Pantai Kuta Mandalika</td>\n",
       "    </tr>\n",
       "    <tr>\n",
       "      <th>7</th>\n",
       "      <td>108</td>\n",
       "      <td>Labuan Bajo</td>\n",
       "    </tr>\n",
       "    <tr>\n",
       "      <th>8</th>\n",
       "      <td>109</td>\n",
       "      <td>Wakatobi</td>\n",
       "    </tr>\n",
       "    <tr>\n",
       "      <th>9</th>\n",
       "      <td>110</td>\n",
       "      <td>Morotai</td>\n",
       "    </tr>\n",
       "  </tbody>\n",
       "</table>\n",
       "</div>"
      ],
      "text/plain": [
       "  id_wisata                           place_name\n",
       "0       101                           Danau Toba\n",
       "1       102              Pantai Tanjung Kelayang\n",
       "2       103                Pantai Tanjung Lesung\n",
       "3       104                         Pulau Seribu\n",
       "4       105                      Candi Borobudur\n",
       "5       106  Taman Nasional Bromo Tengger Semeru\n",
       "6       107                Pantai Kuta Mandalika\n",
       "7       108                          Labuan Bajo\n",
       "8       109                             Wakatobi\n",
       "9       110                              Morotai"
      ]
     },
     "execution_count": 13,
     "metadata": {},
     "output_type": "execute_result"
    }
   ],
   "source": [
    "place"
   ]
  },
  {
   "cell_type": "code",
   "execution_count": 18,
   "id": "e09e4350-1ebd-4dbc-9e31-cee583d95a8e",
   "metadata": {},
   "outputs": [
    {
     "name": "stdout",
     "output_type": "stream",
     "text": [
      "<class 'pandas.core.frame.DataFrame'>\n",
      "RangeIndex: 10 entries, 0 to 9\n",
      "Data columns (total 2 columns):\n",
      " #   Column      Non-Null Count  Dtype \n",
      "---  ------      --------------  ----- \n",
      " 0   id_wisata   10 non-null     int64 \n",
      " 1   place_name  10 non-null     object\n",
      "dtypes: int64(1), object(1)\n",
      "memory usage: 288.0+ bytes\n"
     ]
    }
   ],
   "source": [
    "place.info()"
   ]
  },
  {
   "cell_type": "code",
   "execution_count": 100,
   "id": "4e1d0aa6-9956-4692-8474-5b5b57957d0d",
   "metadata": {},
   "outputs": [
    {
     "data": {
      "text/plain": [
       "False"
      ]
     },
     "execution_count": 100,
     "metadata": {},
     "output_type": "execute_result"
    }
   ],
   "source": [
    "place.isnull().values.any()"
   ]
  },
  {
   "cell_type": "code",
   "execution_count": 19,
   "id": "a26340ef-53fc-4338-afed-3bab13dc302f",
   "metadata": {},
   "outputs": [
    {
     "data": {
      "text/plain": [
       "array([101, 102, 103, 104, 105, 106, 107, 108, 109, 110], dtype=int64)"
      ]
     },
     "execution_count": 19,
     "metadata": {},
     "output_type": "execute_result"
    }
   ],
   "source": [
    "place['id_wisata'].unique()"
   ]
  },
  {
   "cell_type": "markdown",
   "id": "31e5531b-07fa-41f8-b4d1-59e34e5302d2",
   "metadata": {},
   "source": [
    "### Data user"
   ]
  },
  {
   "cell_type": "code",
   "execution_count": 101,
   "id": "3a2210b1-0134-48b8-a7e0-c204374302ae",
   "metadata": {},
   "outputs": [
    {
     "data": {
      "text/html": [
       "<div>\n",
       "<style scoped>\n",
       "    .dataframe tbody tr th:only-of-type {\n",
       "        vertical-align: middle;\n",
       "    }\n",
       "\n",
       "    .dataframe tbody tr th {\n",
       "        vertical-align: top;\n",
       "    }\n",
       "\n",
       "    .dataframe thead th {\n",
       "        text-align: right;\n",
       "    }\n",
       "</style>\n",
       "<table border=\"1\" class=\"dataframe\">\n",
       "  <thead>\n",
       "    <tr style=\"text-align: right;\">\n",
       "      <th></th>\n",
       "      <th>id_user</th>\n",
       "      <th>email</th>\n",
       "      <th>username</th>\n",
       "      <th>password</th>\n",
       "    </tr>\n",
       "  </thead>\n",
       "  <tbody>\n",
       "    <tr>\n",
       "      <th>0</th>\n",
       "      <td>1</td>\n",
       "      <td>user1@gmail.com</td>\n",
       "      <td>user1</td>\n",
       "      <td>$2y$10$Z0d.qCn3uAWbJpKvoezQlOoWFmMGmYgwkspmzhv...</td>\n",
       "    </tr>\n",
       "    <tr>\n",
       "      <th>1</th>\n",
       "      <td>2</td>\n",
       "      <td>email@email.com</td>\n",
       "      <td>u1</td>\n",
       "      <td>$2y$10$kwXsI6OIOMwc0yBMRLaSPOCTHw/VZFsElIG9IWi...</td>\n",
       "    </tr>\n",
       "  </tbody>\n",
       "</table>\n",
       "</div>"
      ],
      "text/plain": [
       "   id_user            email username  \\\n",
       "0        1  user1@gmail.com    user1   \n",
       "1        2  email@email.com       u1   \n",
       "\n",
       "                                            password  \n",
       "0  $2y$10$Z0d.qCn3uAWbJpKvoezQlOoWFmMGmYgwkspmzhv...  \n",
       "1  $2y$10$kwXsI6OIOMwc0yBMRLaSPOCTHw/VZFsElIG9IWi...  "
      ]
     },
     "execution_count": 101,
     "metadata": {},
     "output_type": "execute_result"
    }
   ],
   "source": [
    "user.head()"
   ]
  },
  {
   "cell_type": "code",
   "execution_count": 102,
   "id": "328c359d-72e0-411e-920c-970b853f4546",
   "metadata": {},
   "outputs": [
    {
     "name": "stdout",
     "output_type": "stream",
     "text": [
      "<class 'pandas.core.frame.DataFrame'>\n",
      "RangeIndex: 2 entries, 0 to 1\n",
      "Data columns (total 4 columns):\n",
      " #   Column    Non-Null Count  Dtype \n",
      "---  ------    --------------  ----- \n",
      " 0   id_user   2 non-null      int64 \n",
      " 1   email     2 non-null      object\n",
      " 2   username  2 non-null      object\n",
      " 3   password  2 non-null      object\n",
      "dtypes: int64(1), object(3)\n",
      "memory usage: 192.0+ bytes\n"
     ]
    }
   ],
   "source": [
    "user.info()"
   ]
  },
  {
   "cell_type": "code",
   "execution_count": 103,
   "id": "9de7746d-2cca-4514-98fb-aa80ee084474",
   "metadata": {},
   "outputs": [
    {
     "data": {
      "text/plain": [
       "False"
      ]
     },
     "execution_count": 103,
     "metadata": {},
     "output_type": "execute_result"
    }
   ],
   "source": [
    "user.isnull().values.any()"
   ]
  },
  {
   "cell_type": "markdown",
   "id": "951cbc2d-b92f-4722-aaa1-33848c5f8f05",
   "metadata": {},
   "source": [
    "# EDA"
   ]
  },
  {
   "cell_type": "code",
   "execution_count": 32,
   "id": "7e89a6f0-9182-4d77-81a2-05ede7b6b115",
   "metadata": {},
   "outputs": [
    {
     "name": "stdout",
     "output_type": "stream",
     "text": [
      "<class 'pandas.core.frame.DataFrame'>\n",
      "Int64Index: 5 entries, 0 to 4\n",
      "Data columns (total 4 columns):\n",
      " #   Column       Non-Null Count  Dtype \n",
      "---  ------       --------------  ----- \n",
      " 0   index        5 non-null      int64 \n",
      " 1   id_wisata_x  5 non-null      int64 \n",
      " 2   id_wisata_y  5 non-null      int64 \n",
      " 3   place_name   5 non-null      object\n",
      "dtypes: int64(3), object(1)\n",
      "memory usage: 200.0+ bytes\n"
     ]
    }
   ],
   "source": [
    "top_5.info()"
   ]
  },
  {
   "cell_type": "code",
   "execution_count": 35,
   "id": "a0fbc733-2fb0-47c2-8e16-83ddc48fabcb",
   "metadata": {},
   "outputs": [
    {
     "data": {
      "image/png": "[encoded data removed]",
      "text/plain": [
       "<Figure size 800x500 with 1 Axes>"
      ]
     },
     "metadata": {},
     "output_type": "display_data"
    }
   ],
   "source": [
    "# Membuat dataframe berisi lokasi dengan jumlah rating terbanyak\n",
    "top_5 = rating['id_wisata'].value_counts().reset_index()[0:5]\n",
    "top_5 = pd.merge(top_5, place[['id_wisata','place_name']], how='left', left_on='index', right_on='id_wisata')\n",
    "\n",
    "# Membuat visualisasi wisata dengan jumlah rating terbanyak\n",
    "plt.figure(figsize=(8,5))\n",
    "# sns.barplot('id_wisata_x', 'place_name', data=top_5)\n",
    "sns.barplot(data=top_5, x=\"id_wisata_x\", y=\"place_name\")\n",
    "plt.title('Jumlah Rating Terbanyak Wisata Bali Baru', pad=20)\n",
    "plt.xlabel('Jumlah Rating')\n",
    "plt.ylabel('Nama Wisata Bali Baru')\n",
    "plt.show()"
   ]
  },
  {
   "cell_type": "code",
   "execution_count": 14,
   "id": "d4464656-3961-4888-a6e7-f11ca7bdcf4d",
   "metadata": {},
   "outputs": [
    {
     "data": {
      "image/png": "[encoded data removed]",
      "text/plain": [
       "<Figure size 500x300 with 1 Axes>"
      ]
     },
     "metadata": {},
     "output_type": "display_data"
    }
   ],
   "source": [
    "# Membuat visualisasi distribusi usia user\n",
    "\n",
    "plt.figure(figsize=(5,3))\n",
    "sns.boxplot(user['Age']);\n",
    "plt.title('Distribusi Usia User', pad=20)\n",
    "plt.show()"
   ]
  },
  {
   "cell_type": "code",
   "execution_count": 15,
   "id": "11b8f046-ad90-4a64-a994-d612aa03bcb7",
   "metadata": {},
   "outputs": [
    {
     "data": {
      "image/png": "[encoded data removed]",
      "text/plain": [
       "<Figure size 800x600 with 1 Axes>"
      ]
     },
     "metadata": {},
     "output_type": "display_data"
    }
   ],
   "source": [
    "# Memfilter asal kota dari user\n",
    "askot = user['Location'].apply(lambda x : x.split(',')[0])\n",
    "\n",
    "# Visualisasi asal kota dari user\n",
    "plt.figure(figsize=(8,6))\n",
    "sns.countplot(y=askot)\n",
    "plt.title('Jumlah Asal Kota dari User')\n",
    "plt.show()"
   ]
  },
  {
   "cell_type": "markdown",
   "id": "d7c25e09-cdee-40e0-b6df-7d2f04d72cff",
   "metadata": {},
   "source": [
    "# Persiapan Data untuk Pemodelan"
   ]
  },
  {
   "cell_type": "markdown",
   "id": "f2b15548-cb43-46b9-92f5-b3ee9804b9f7",
   "metadata": {},
   "source": [
    "## Membuat Salinan Data rating"
   ]
  },
  {
   "cell_type": "code",
   "execution_count": 107,
   "id": "f8182047-b0e8-45b2-ab35-59324f1a47d7",
   "metadata": {},
   "outputs": [
    {
     "data": {
      "text/html": [
       "<div>\n",
       "<style scoped>\n",
       "    .dataframe tbody tr th:only-of-type {\n",
       "        vertical-align: middle;\n",
       "    }\n",
       "\n",
       "    .dataframe tbody tr th {\n",
       "        vertical-align: top;\n",
       "    }\n",
       "\n",
       "    .dataframe thead th {\n",
       "        text-align: right;\n",
       "    }\n",
       "</style>\n",
       "<table border=\"1\" class=\"dataframe\">\n",
       "  <thead>\n",
       "    <tr style=\"text-align: right;\">\n",
       "      <th></th>\n",
       "      <th>id_user</th>\n",
       "      <th>id_wisata</th>\n",
       "      <th>rating</th>\n",
       "    </tr>\n",
       "  </thead>\n",
       "  <tbody>\n",
       "    <tr>\n",
       "      <th>0</th>\n",
       "      <td>1</td>\n",
       "      <td>105</td>\n",
       "      <td>3</td>\n",
       "    </tr>\n",
       "    <tr>\n",
       "      <th>1</th>\n",
       "      <td>1</td>\n",
       "      <td>102</td>\n",
       "      <td>2</td>\n",
       "    </tr>\n",
       "    <tr>\n",
       "      <th>2</th>\n",
       "      <td>1</td>\n",
       "      <td>103</td>\n",
       "      <td>5</td>\n",
       "    </tr>\n",
       "    <tr>\n",
       "      <th>3</th>\n",
       "      <td>1</td>\n",
       "      <td>105</td>\n",
       "      <td>3</td>\n",
       "    </tr>\n",
       "    <tr>\n",
       "      <th>4</th>\n",
       "      <td>1</td>\n",
       "      <td>104</td>\n",
       "      <td>4</td>\n",
       "    </tr>\n",
       "  </tbody>\n",
       "</table>\n",
       "</div>"
      ],
      "text/plain": [
       "   id_user  id_wisata  rating\n",
       "0        1        105       3\n",
       "1        1        102       2\n",
       "2        1        103       5\n",
       "3        1        105       3\n",
       "4        1        104       4"
      ]
     },
     "execution_count": 107,
     "metadata": {},
     "output_type": "execute_result"
    }
   ],
   "source": [
    "# Membaca dataset untuk dilakukan encoding\n",
    " \n",
    "df = rating.copy()\n",
    "df.head()"
   ]
  },
  {
   "cell_type": "markdown",
   "id": "73e6ffd3-3cb6-4a10-b0b7-1ec59df93c6c",
   "metadata": {},
   "source": [
    "## Melakukan Encoding"
   ]
  },
  {
   "cell_type": "code",
   "execution_count": 108,
   "id": "3c986912-9a51-4279-9414-268e5794222e",
   "metadata": {},
   "outputs": [],
   "source": [
    "# Membuat Fungsi untuk Melakukan Encoding\n",
    "def dict_encoder(col, data=df):\n",
    "    # Mengubah kolom suatu dataframe menjadi list tanpa nilai yang sama\n",
    "    unique_val = data[col].unique().tolist()\n",
    "\n",
    "    # Melakukan encoding value kolom suatu dataframe ke angka\n",
    "    val_to_val_encoded = {x: i for i, x in enumerate(unique_val)}\n",
    "\n",
    "    # Melakukan proses encoding angka ke value dari kolom suatu dataframe\n",
    "    val_encoded_to_val = {i: x for i, x in enumerate(unique_val)}\n",
    "    \n",
    "    return val_to_val_encoded, val_encoded_to_val"
   ]
  },
  {
   "cell_type": "code",
   "execution_count": 109,
   "id": "a7b97eb0-d650-45db-969e-23504fdea5e5",
   "metadata": {},
   "outputs": [],
   "source": [
    "#Encoding dan Mapping Kolom User\n",
    "\n",
    "# Encoding User_Id\n",
    "user_to_user_encoded, user_encoded_to_user = dict_encoder('id_user')\n",
    "\n",
    "# Mapping User_Id ke dataframe\n",
    "df['user'] = df['id_user'].map(user_to_user_encoded)"
   ]
  },
  {
   "cell_type": "code",
   "execution_count": 110,
   "id": "4dd38557-e6f2-454e-9e8b-2e9fb1df40b6",
   "metadata": {},
   "outputs": [],
   "source": [
    "# Encoding dan Mapping Kolom Place\n",
    "\n",
    "# Encoding Place_Id\n",
    "place_to_place_encoded, place_encoded_to_place = dict_encoder('id_wisata')\n",
    "\n",
    "# Mapping Place_Id ke dataframe place\n",
    "df['place'] = df['id_wisata'].map(place_to_place_encoded)"
   ]
  },
  {
   "cell_type": "markdown",
   "id": "5b3f906f-4074-44a4-8ae4-e9a2c3ad20fc",
   "metadata": {},
   "source": [
    "## Melihat Gambaran Data untuk Pemodelan"
   ]
  },
  {
   "cell_type": "code",
   "execution_count": 111,
   "id": "516f3737-81bb-40d0-bbce-e4153351cba3",
   "metadata": {},
   "outputs": [
    {
     "name": "stdout",
     "output_type": "stream",
     "text": [
      "Number of User: 301, Number of Place: 10, Min Rating: 1.0, Max Rating: 5.0\n"
     ]
    }
   ],
   "source": [
    "# Mendapatkan jumlah user dan place\n",
    "num_users, num_place = len(user_to_user_encoded), len(place_to_place_encoded)\n",
    " \n",
    "# Mengubah rating menjadi nilai float\n",
    "df['rating'] = df['rating'].values.astype(np.float32)\n",
    " \n",
    "# Mendapatkan nilai minimum dan maksimum rating\n",
    "min_rating, max_rating = min(df['rating']), max(df['rating'])\n",
    " \n",
    "print(f'Number of User: {num_users}, Number of Place: {num_place}, Min Rating: {min_rating}, Max Rating: {max_rating}')"
   ]
  },
  {
   "cell_type": "code",
   "execution_count": 112,
   "id": "30b8a33f-7042-461a-b092-b535c97801eb",
   "metadata": {},
   "outputs": [],
   "source": [
    "# Membuat variabel x untuk mencocokkan data user dan place menjadi satu value\n",
    "x = df[['user', 'place']].values\n",
    " \n",
    "# Membuat variabel y untuk membuat rating dari hasil \n",
    "y = df['rating'].apply(lambda x: (x - min_rating) / (max_rating - min_rating)).values\n",
    " \n",
    "# Membagi menjadi 80% data train dan 20% data validasi\n",
    "train_indices = int(0.8 * df.shape[0])\n",
    "x_train, x_val, y_train, y_val = (\n",
    "    x[:train_indices],\n",
    "    x[train_indices:],\n",
    "    y[:train_indices],\n",
    "    y[train_indices:]\n",
    ")"
   ]
  },
  {
   "cell_type": "markdown",
   "id": "a3c50280-c3ec-4aff-882e-5ecc4448bb7d",
   "metadata": {},
   "source": [
    "# Menyiapkan Model"
   ]
  },
  {
   "cell_type": "code",
   "execution_count": 113,
   "id": "fd4b6293-0a51-4661-bc1b-a6bd9f4213a4",
   "metadata": {},
   "outputs": [],
   "source": [
    "# Membuat Class fungsi Model\n",
    "class RecommenderNet(tf.keras.Model):\n",
    "    # Insialisasi fungsi\n",
    "    def __init__(self, num_users, num_places, embedding_size=16, **kwargs):\n",
    "        super(RecommenderNet, self).__init__(**kwargs)\n",
    "        num_users += 100\n",
    "        self.num_users = num_users\n",
    "        self.num_places = num_places\n",
    "        self.embedding_size = embedding_size\n",
    "        self.user_embedding = layers.Embedding( # layer embedding user\n",
    "            num_users,\n",
    "            embedding_size,\n",
    "            embeddings_initializer = 'he_normal',\n",
    "            embeddings_regularizer = keras.regularizers.l2(1e-6)\n",
    "        )\n",
    "        self.user_bias = layers.Embedding(num_users, 1) # layer embedding user bias\n",
    "        self.places_embedding = layers.Embedding( # layer embeddings places\n",
    "            num_places,\n",
    "            embedding_size,\n",
    "            embeddings_initializer = 'he_normal',\n",
    "            embeddings_regularizer = keras.regularizers.l2(1e-6)\n",
    "        )\n",
    "        self.places_bias = layers.Embedding(num_places, 1) # layer embedding places bias\n",
    " \n",
    "    def call(self, inputs):\n",
    "        user_vector = self.user_embedding(inputs[:,0]) # memanggil layer embedding 1\n",
    "        user_bias = self.user_bias(inputs[:, 0]) # memanggil layer embedding 2\n",
    "        places_vector = self.places_embedding(inputs[:, 1]) # memanggil layer embedding 3\n",
    "        places_bias = self.places_bias(inputs[:, 1]) # memanggil layer embedding 4\n",
    " \n",
    "        dot_user_places = tf.tensordot(user_vector, places_vector, 2) \n",
    " \n",
    "        x = dot_user_places + user_bias + places_bias\n",
    "    \n",
    "        return tf.nn.sigmoid(x) # activation sigmoid\n",
    "    \n",
    "    def get_config(self):\n",
    "        return {\n",
    "            \"num_users\": self.num_users,\n",
    "            \"num_places\": self.num_places,\n",
    "            \"embedding_size\": self.embedding_size,\n",
    "        }\n",
    "    #class method is called when model is loaded\n",
    "    @classmethod\n",
    "    def from_config(cls, config):\n",
    "        #number of users, number of shows, embedding size\n",
    "        #used when creating the model\n",
    "        return cls(num_users, num_places)"
   ]
  },
  {
   "cell_type": "code",
   "execution_count": 114,
   "id": "2ed18cb6-9103-497f-a126-8bbb72242370",
   "metadata": {},
   "outputs": [
    {
     "data": {
      "text/plain": [
       "301"
      ]
     },
     "execution_count": 114,
     "metadata": {},
     "output_type": "execute_result"
    }
   ],
   "source": [
    "num_users"
   ]
  },
  {
   "cell_type": "code",
   "execution_count": 115,
   "id": "4ccc9f00-d6a7-416e-b94e-96e1ba9afaad",
   "metadata": {},
   "outputs": [
    {
     "data": {
      "text/plain": [
       "10"
      ]
     },
     "execution_count": 115,
     "metadata": {},
     "output_type": "execute_result"
    }
   ],
   "source": [
    "num_place"
   ]
  },
  {
   "cell_type": "code",
   "execution_count": 116,
   "id": "ec154c89-bde5-42a0-a458-721cc898f0ad",
   "metadata": {},
   "outputs": [],
   "source": [
    "model = RecommenderNet(num_users, num_place) # inisialisasi model\n",
    " \n",
    "# model compile\n",
    "model.compile(\n",
    "    loss = tf.keras.losses.BinaryCrossentropy(),\n",
    "    optimizer = keras.optimizers.Adam(learning_rate=0.001),\n",
    "    metrics=[tf.keras.metrics.RootMeanSquaredError()]\n",
    ")"
   ]
  },
  {
   "cell_type": "code",
   "execution_count": 117,
   "id": "59312a84-d145-43d4-934f-d9a82424627a",
   "metadata": {},
   "outputs": [],
   "source": [
    "# Membuat Class fungsi Callback\n",
    "class myCallback(tf.keras.callbacks.Callback):\n",
    "    def on_epoch_end(self, epoch, logs={}):\n",
    "        if(logs.get('val_root_mean_squared_error')<0.25):\n",
    "            print('Lapor! Metriks validasi sudah sesuai harapan')\n",
    "            self.model.stop_training = True"
   ]
  },
  {
   "cell_type": "code",
   "execution_count": 118,
   "id": "e8e6a246-773d-4063-8689-43ccd5c68ef5",
   "metadata": {
    "scrolled": true,
    "tags": []
   },
   "outputs": [
    {
     "name": "stdout",
     "output_type": "stream",
     "text": [
      "Epoch 1/50\n",
      "2667/2667 [==============================] - 12s 4ms/step - loss: 0.6964 - root_mean_squared_error: 0.3450 - val_loss: 0.6938 - val_root_mean_squared_error: 0.3560\n",
      "Epoch 2/50\n",
      "2667/2667 [==============================] - 8s 3ms/step - loss: 0.6893 - root_mean_squared_error: 0.3399 - val_loss: 0.6941 - val_root_mean_squared_error: 0.3562\n",
      "Epoch 3/50\n",
      "2667/2667 [==============================] - 8s 3ms/step - loss: 0.6836 - root_mean_squared_error: 0.3358 - val_loss: 0.6941 - val_root_mean_squared_error: 0.3562\n",
      "Epoch 4/50\n",
      "2667/2667 [==============================] - 8s 3ms/step - loss: 0.6802 - root_mean_squared_error: 0.3332 - val_loss: 0.6943 - val_root_mean_squared_error: 0.3563\n",
      "Epoch 5/50\n",
      "2667/2667 [==============================] - 8s 3ms/step - loss: 0.6802 - root_mean_squared_error: 0.3332 - val_loss: 0.6943 - val_root_mean_squared_error: 0.3564\n",
      "Epoch 6/50\n",
      "2667/2667 [==============================] - 8s 3ms/step - loss: 0.6761 - root_mean_squared_error: 0.3302 - val_loss: 0.6943 - val_root_mean_squared_error: 0.3564\n",
      "Epoch 7/50\n",
      "2667/2667 [==============================] - 8s 3ms/step - loss: 0.6733 - root_mean_squared_error: 0.3282 - val_loss: 0.6942 - val_root_mean_squared_error: 0.3563\n",
      "Epoch 8/50\n",
      "2667/2667 [==============================] - 8s 3ms/step - loss: 0.6725 - root_mean_squared_error: 0.3276 - val_loss: 0.6943 - val_root_mean_squared_error: 0.3563\n",
      "Epoch 9/50\n",
      "2667/2667 [==============================] - 8s 3ms/step - loss: 0.6720 - root_mean_squared_error: 0.3272 - val_loss: 0.6944 - val_root_mean_squared_error: 0.3564\n",
      "Epoch 10/50\n",
      "2667/2667 [==============================] - 9s 3ms/step - loss: 0.6733 - root_mean_squared_error: 0.3282 - val_loss: 0.6945 - val_root_mean_squared_error: 0.3565\n",
      "Epoch 11/50\n",
      "2667/2667 [==============================] - 8s 3ms/step - loss: 0.6713 - root_mean_squared_error: 0.3267 - val_loss: 0.6947 - val_root_mean_squared_error: 0.3566\n",
      "Epoch 12/50\n",
      "2667/2667 [==============================] - 9s 3ms/step - loss: 0.6720 - root_mean_squared_error: 0.3272 - val_loss: 0.6943 - val_root_mean_squared_error: 0.3563\n",
      "Epoch 13/50\n",
      "2667/2667 [==============================] - 8s 3ms/step - loss: 0.6702 - root_mean_squared_error: 0.3259 - val_loss: 0.6944 - val_root_mean_squared_error: 0.3564\n",
      "Epoch 14/50\n",
      "2667/2667 [==============================] - 8s 3ms/step - loss: 0.6701 - root_mean_squared_error: 0.3257 - val_loss: 0.6943 - val_root_mean_squared_error: 0.3563\n",
      "Epoch 15/50\n",
      "2667/2667 [==============================] - 8s 3ms/step - loss: 0.6692 - root_mean_squared_error: 0.3252 - val_loss: 0.6945 - val_root_mean_squared_error: 0.3564\n",
      "Epoch 16/50\n",
      "2667/2667 [==============================] - 8s 3ms/step - loss: 0.6694 - root_mean_squared_error: 0.3253 - val_loss: 0.6944 - val_root_mean_squared_error: 0.3564\n",
      "Epoch 17/50\n",
      "2667/2667 [==============================] - 8s 3ms/step - loss: 0.6699 - root_mean_squared_error: 0.3256 - val_loss: 0.6944 - val_root_mean_squared_error: 0.3564\n",
      "Epoch 18/50\n",
      "2667/2667 [==============================] - 8s 3ms/step - loss: 0.6689 - root_mean_squared_error: 0.3249 - val_loss: 0.6945 - val_root_mean_squared_error: 0.3564\n",
      "Epoch 19/50\n",
      "2667/2667 [==============================] - 8s 3ms/step - loss: 0.6685 - root_mean_squared_error: 0.3246 - val_loss: 0.6946 - val_root_mean_squared_error: 0.3565\n",
      "Epoch 20/50\n",
      "2667/2667 [==============================] - 8s 3ms/step - loss: 0.6681 - root_mean_squared_error: 0.3242 - val_loss: 0.6943 - val_root_mean_squared_error: 0.3563\n",
      "Epoch 21/50\n",
      "2667/2667 [==============================] - 8s 3ms/step - loss: 0.6701 - root_mean_squared_error: 0.3258 - val_loss: 0.6942 - val_root_mean_squared_error: 0.3562\n",
      "Epoch 22/50\n",
      "2667/2667 [==============================] - 8s 3ms/step - loss: 0.6684 - root_mean_squared_error: 0.3245 - val_loss: 0.6944 - val_root_mean_squared_error: 0.3564\n",
      "Epoch 23/50\n",
      "2667/2667 [==============================] - 8s 3ms/step - loss: 0.6693 - root_mean_squared_error: 0.3251 - val_loss: 0.6944 - val_root_mean_squared_error: 0.3564\n",
      "Epoch 24/50\n",
      "2667/2667 [==============================] - 8s 3ms/step - loss: 0.6698 - root_mean_squared_error: 0.3256 - val_loss: 0.6942 - val_root_mean_squared_error: 0.3562\n",
      "Epoch 25/50\n",
      "2667/2667 [==============================] - 8s 3ms/step - loss: 0.6680 - root_mean_squared_error: 0.3242 - val_loss: 0.6942 - val_root_mean_squared_error: 0.3562\n",
      "Epoch 26/50\n",
      "2667/2667 [==============================] - 8s 3ms/step - loss: 0.6681 - root_mean_squared_error: 0.3242 - val_loss: 0.6944 - val_root_mean_squared_error: 0.3563\n",
      "Epoch 27/50\n",
      "2667/2667 [==============================] - 8s 3ms/step - loss: 0.6672 - root_mean_squared_error: 0.3237 - val_loss: 0.6945 - val_root_mean_squared_error: 0.3564\n",
      "Epoch 28/50\n",
      "2667/2667 [==============================] - 8s 3ms/step - loss: 0.6688 - root_mean_squared_error: 0.3248 - val_loss: 0.6944 - val_root_mean_squared_error: 0.3563\n",
      "Epoch 29/50\n",
      "2667/2667 [==============================] - 8s 3ms/step - loss: 0.6669 - root_mean_squared_error: 0.3234 - val_loss: 0.6942 - val_root_mean_squared_error: 0.3562\n",
      "Epoch 30/50\n",
      "2667/2667 [==============================] - 8s 3ms/step - loss: 0.6693 - root_mean_squared_error: 0.3251 - val_loss: 0.6945 - val_root_mean_squared_error: 0.3564\n",
      "Epoch 31/50\n",
      "2667/2667 [==============================] - 8s 3ms/step - loss: 0.6671 - root_mean_squared_error: 0.3235 - val_loss: 0.6945 - val_root_mean_squared_error: 0.3564\n",
      "Epoch 32/50\n",
      "2667/2667 [==============================] - 9s 3ms/step - loss: 0.6685 - root_mean_squared_error: 0.3246 - val_loss: 0.6946 - val_root_mean_squared_error: 0.3564\n",
      "Epoch 33/50\n",
      "2667/2667 [==============================] - 8s 3ms/step - loss: 0.6686 - root_mean_squared_error: 0.3247 - val_loss: 0.6943 - val_root_mean_squared_error: 0.3562\n",
      "Epoch 34/50\n",
      "2667/2667 [==============================] - 8s 3ms/step - loss: 0.6672 - root_mean_squared_error: 0.3236 - val_loss: 0.6945 - val_root_mean_squared_error: 0.3564\n",
      "Epoch 35/50\n",
      "2667/2667 [==============================] - 8s 3ms/step - loss: 0.6712 - root_mean_squared_error: 0.3265 - val_loss: 0.6946 - val_root_mean_squared_error: 0.3564\n",
      "Epoch 36/50\n",
      "2667/2667 [==============================] - 8s 3ms/step - loss: 0.6657 - root_mean_squared_error: 0.3225 - val_loss: 0.6945 - val_root_mean_squared_error: 0.3563\n",
      "Epoch 37/50\n",
      "2667/2667 [==============================] - 8s 3ms/step - loss: 0.6675 - root_mean_squared_error: 0.3237 - val_loss: 0.6944 - val_root_mean_squared_error: 0.3563\n",
      "Epoch 38/50\n",
      "2667/2667 [==============================] - 7s 3ms/step - loss: 0.6699 - root_mean_squared_error: 0.3255 - val_loss: 0.6946 - val_root_mean_squared_error: 0.3564\n",
      "Epoch 39/50\n",
      "2667/2667 [==============================] - 8s 3ms/step - loss: 0.6684 - root_mean_squared_error: 0.3244 - val_loss: 0.6946 - val_root_mean_squared_error: 0.3564\n",
      "Epoch 40/50\n",
      "2667/2667 [==============================] - 8s 3ms/step - loss: 0.6690 - root_mean_squared_error: 0.3249 - val_loss: 0.6947 - val_root_mean_squared_error: 0.3565\n",
      "Epoch 41/50\n",
      "2667/2667 [==============================] - 8s 3ms/step - loss: 0.6680 - root_mean_squared_error: 0.3242 - val_loss: 0.6948 - val_root_mean_squared_error: 0.3565\n",
      "Epoch 42/50\n",
      "2667/2667 [==============================] - 8s 3ms/step - loss: 0.6664 - root_mean_squared_error: 0.3230 - val_loss: 0.6948 - val_root_mean_squared_error: 0.3565\n",
      "Epoch 43/50\n",
      "2667/2667 [==============================] - 8s 3ms/step - loss: 0.6670 - root_mean_squared_error: 0.3234 - val_loss: 0.6947 - val_root_mean_squared_error: 0.3565\n",
      "Epoch 44/50\n",
      "2667/2667 [==============================] - 8s 3ms/step - loss: 0.6676 - root_mean_squared_error: 0.3239 - val_loss: 0.6945 - val_root_mean_squared_error: 0.3563\n",
      "Epoch 45/50\n",
      "2667/2667 [==============================] - 8s 3ms/step - loss: 0.6667 - root_mean_squared_error: 0.3232 - val_loss: 0.6945 - val_root_mean_squared_error: 0.3563\n",
      "Epoch 46/50\n",
      "2667/2667 [==============================] - 8s 3ms/step - loss: 0.6676 - root_mean_squared_error: 0.3237 - val_loss: 0.6944 - val_root_mean_squared_error: 0.3563\n",
      "Epoch 47/50\n",
      "2667/2667 [==============================] - 8s 3ms/step - loss: 0.6678 - root_mean_squared_error: 0.3240 - val_loss: 0.6945 - val_root_mean_squared_error: 0.3563\n",
      "Epoch 48/50\n",
      "2667/2667 [==============================] - 8s 3ms/step - loss: 0.6693 - root_mean_squared_error: 0.3252 - val_loss: 0.6944 - val_root_mean_squared_error: 0.3562\n",
      "Epoch 49/50\n",
      "2667/2667 [==============================] - 8s 3ms/step - loss: 0.6674 - root_mean_squared_error: 0.3237 - val_loss: 0.6944 - val_root_mean_squared_error: 0.3563\n",
      "Epoch 50/50\n",
      "2667/2667 [==============================] - 8s 3ms/step - loss: 0.6669 - root_mean_squared_error: 0.3234 - val_loss: 0.6945 - val_root_mean_squared_error: 0.3563\n"
     ]
    }
   ],
   "source": [
    "# Training Model\n",
    "history = model.fit(x = x_train,\n",
    "                    y = y_train,\n",
    "                    batch_size=3,\n",
    "                    epochs = 50,\n",
    "                    verbose=1,\n",
    "                    validation_data = (x_val, y_val),\n",
    "                    callbacks = [myCallback()]\n",
    "                   )"
   ]
  },
  {
   "cell_type": "code",
   "execution_count": 119,
   "id": "4a629db8-c14f-4627-ac56-708ec2125837",
   "metadata": {},
   "outputs": [
    {
     "data": {
      "image/png": "[encoded data removed]",
      "text/plain": [
       "<Figure size 640x480 with 1 Axes>"
      ]
     },
     "metadata": {},
     "output_type": "display_data"
    }
   ],
   "source": [
    "# Menampilkan plot loss dan validation\n",
    "plt.plot(history.history['root_mean_squared_error'])\n",
    "plt.plot(history.history['val_root_mean_squared_error'])\n",
    "plt.title('model_metrics')\n",
    "plt.ylabel('root_mean_squared_error')\n",
    "plt.xlabel('epoch')\n",
    "plt.ylim(ymin=0, ymax=0.4)\n",
    "plt.legend(['train', 'test'], loc='center left')\n",
    "plt.show()"
   ]
  },
  {
   "cell_type": "code",
   "execution_count": 120,
   "id": "57e0807d-a008-49b4-89c4-eb0e496c1b1c",
   "metadata": {},
   "outputs": [],
   "source": [
    "#save model\n",
    "model.save_weights('model_checkpoint/model_weights', save_format='tf')"
   ]
  },
  {
   "cell_type": "code",
   "execution_count": 31,
   "id": "38a96a9e-485b-4ee6-94da-5acf7b314596",
   "metadata": {},
   "outputs": [
    {
     "data": {
      "text/plain": [
       "<tensorflow.python.training.tracking.util.CheckpointLoadStatus at 0x1b2af7095c8>"
      ]
     },
     "execution_count": 31,
     "metadata": {},
     "output_type": "execute_result"
    }
   ],
   "source": [
    "loaded_model = RecommenderNet(num_users, num_place)\n",
    "loaded_model.compile(loss=tf.keras.losses.BinaryCrossentropy(), optimizer=keras.optimizers.Adam(lr=0.001))\n",
    "loaded_model.load_weights('model_checkpoint/model_weights')"
   ]
  },
  {
   "cell_type": "code",
   "execution_count": 32,
   "id": "76d1f84f-c1a0-45fa-9e75-1f374249daad",
   "metadata": {},
   "outputs": [],
   "source": [
    "# Menyiapkan dataframe\n",
    "place_df = place[['Place_Id','Place_Name','Category','Rating']]\n",
    "place_df.columns = ['id','place_name','category','rating']\n",
    "df = rating.copy()"
   ]
  },
  {
   "cell_type": "code",
   "execution_count": null,
   "id": "920d69c4-5d25-4b78-a946-51f92beb4085",
   "metadata": {},
   "outputs": [],
   "source": []
  },
  {
   "cell_type": "code",
   "execution_count": 68,
   "id": "93870305-e9b7-437a-bf0b-830c97a8544b",
   "metadata": {},
   "outputs": [],
   "source": [
    "# Mengambil sample user\n",
    "user_id = df.User_Id.sample(8).iloc[0]\n",
    "place_visited_by_user = df[df.User_Id == user_id]"
   ]
  },
  {
   "cell_type": "code",
   "execution_count": 69,
   "id": "9ae48c99-1bab-40bf-b0f5-1e85fe916ffe",
   "metadata": {},
   "outputs": [
    {
     "data": {
      "text/plain": [
       "10000"
      ]
     },
     "execution_count": 69,
     "metadata": {},
     "output_type": "execute_result"
    }
   ],
   "source": [
    "len(df)"
   ]
  },
  {
   "cell_type": "code",
   "execution_count": 70,
   "id": "4f10f7db-a333-4f2f-9d78-de35094aa43d",
   "metadata": {},
   "outputs": [],
   "source": [
    "# Membuat data lokasi yang belum dikunjungi user\n",
    "place_not_visited = place_df[~place_df['id'].isin(place_visited_by_user.Place_Id.values)]['id'] \n",
    "place_not_visited = list(\n",
    "    set(place_not_visited)\n",
    "    .intersection(set(place_to_place_encoded.keys()))\n",
    ")\n",
    " \n",
    "place_not_visited = [[place_to_place_encoded.get(x)] for x in place_not_visited]\n",
    "user_encoder = user_to_user_encoded.get(user_id)\n",
    "user_place_array = np.hstack(\n",
    "    ([[user_encoder]] * len(place_not_visited), place_not_visited)\n",
    ")"
   ]
  },
  {
   "cell_type": "code",
   "execution_count": 71,
   "id": "3e48a06e-27a1-4405-a7be-19fd3fd7313d",
   "metadata": {},
   "outputs": [
    {
     "data": {
      "text/plain": [
       "[[5]]"
      ]
     },
     "execution_count": 71,
     "metadata": {},
     "output_type": "execute_result"
    }
   ],
   "source": [
    "place_not_visited"
   ]
  },
  {
   "cell_type": "code",
   "execution_count": 72,
   "id": "62390786-16e8-43ff-becb-0fd969b73491",
   "metadata": {},
   "outputs": [
    {
     "data": {
      "text/plain": [
       "262"
      ]
     },
     "execution_count": 72,
     "metadata": {},
     "output_type": "execute_result"
    }
   ],
   "source": [
    "user_encoder"
   ]
  },
  {
   "cell_type": "code",
   "execution_count": 73,
   "id": "a0b8db80-3fc8-4f8c-8041-9a8b9eb8adc1",
   "metadata": {},
   "outputs": [
    {
     "data": {
      "text/plain": [
       "array([[262,   5]])"
      ]
     },
     "execution_count": 73,
     "metadata": {},
     "output_type": "execute_result"
    }
   ],
   "source": [
    "user_place_array"
   ]
  },
  {
   "cell_type": "code",
   "execution_count": 74,
   "id": "873ffed2-b61f-49b1-9e04-6d54fe79b57d",
   "metadata": {},
   "outputs": [
    {
     "name": "stdout",
     "output_type": "stream",
     "text": [
      "1/1 [==============================] - 0s 162ms/step\n",
      "Daftar rekomendasi untuk: User 263\n",
      "============================================= \n",
      "\n",
      "------------------------------------------------------------\n",
      "Tempat dengan rating wisata dari user\n",
      "------------------------------------------------------------\n",
      "Danau Toba : Tempat Wisata : 4,5\n",
      "Pantai Tanjung Kelayang : Tempat Wisata : 4,5\n",
      "Pantai Tanjung Lesung : Tempat Wisata : 4\n",
      "Pulau Seribu : Tempat Wisata : 4\n",
      "Candi Borobudur : Tempat Wisata : 4,5\n",
      "Pantai Mandalika : Tempat Wisata : 4\n",
      "Labuan Bajo : Tempat Wisata : 5\n",
      "Wakatobi : Tempat Wisata : 3,5\n",
      "Murotai : Tempat Wisata : 4,5\n",
      "\n",
      "------------------------------------------------------------\n",
      "Place recommendation\n",
      "------------------------------------------------------------\n",
      "1 . Taman Nasional Bromo Tengger Semeru \n",
      "     Tempat Wisata , Rating Wisata  4,5 \n",
      "\n",
      "=============================================\n"
     ]
    }
   ],
   "source": [
    "# Mengambil top 7 recommendation\n",
    "ratings = loaded_model.predict(user_place_array).flatten()\n",
    "top_ratings_indices = ratings.argsort()[-5:][::-1]\n",
    "recommended_place_ids = [\n",
    "    place_encoded_to_place.get(place_not_visited[x][0]) for x in top_ratings_indices\n",
    "]\n",
    " \n",
    "print('Daftar rekomendasi untuk: {}'.format('User ' + str(user_id)))\n",
    "print('===' * 15,'\\n')\n",
    "print('----' * 15)\n",
    "print('Tempat dengan rating wisata dari user')\n",
    "print('----' * 15)\n",
    " \n",
    "top_place_user = (\n",
    "    place_visited_by_user.sort_values(\n",
    "        by = 'Place_Ratings',\n",
    "        ascending=True\n",
    "    )\n",
    "    .Place_Id.values\n",
    ")\n",
    " \n",
    "place_df_rows = place_df[place_df['id'].isin(top_place_user)]\n",
    "for row in place_df_rows.itertuples():\n",
    "    print(row.place_name, ':', row.category, ':', row.rating)\n",
    "\n",
    "print('')\n",
    "print('----' * 15)\n",
    "print('Place recommendation')\n",
    "print('----' * 15)\n",
    " \n",
    "recommended_place = place_df[place_df['id'].isin(recommended_place_ids)]\n",
    "for row, i in zip(recommended_place.itertuples(), range(1,10)):\n",
    "    print(i,'.', row.place_name, '\\n    ', row.category, ',', 'Rating Wisata ', row.rating,'\\n')\n",
    "\n",
    "print('==='*15)"
   ]
  },
  {
   "cell_type": "code",
   "execution_count": null,
   "id": "d85896af-1d99-496c-bcef-c409cae860f4",
   "metadata": {},
   "outputs": [],
   "source": [
    "a=np.array([1,2])\n",
    "print(a[[False, True]"
   ]
  },
  {
   "cell_type": "code",
   "execution_count": 1,
   "id": "9b92dc5c-198c-41a0-8563-9de48ecb4410",
   "metadata": {},
   "outputs": [],
   "source": [
    "# coba"
   ]
  },
  {
   "cell_type": "code",
   "execution_count": 55,
   "id": "9b50239c-2e9f-4648-bab8-b63e0d0add74",
   "metadata": {},
   "outputs": [
    {
     "name": "stdout",
     "output_type": "stream",
     "text": [
      "Error while connecting to MySQL Unread result found\n"
     ]
    },
    {
     "data": {
      "text/html": [
       "<div>\n",
       "<style scoped>\n",
       "    .dataframe tbody tr th:only-of-type {\n",
       "        vertical-align: middle;\n",
       "    }\n",
       "\n",
       "    .dataframe tbody tr th {\n",
       "        vertical-align: top;\n",
       "    }\n",
       "\n",
       "    .dataframe thead tr th {\n",
       "        text-align: left;\n",
       "    }\n",
       "</style>\n",
       "<table border=\"1\" class=\"dataframe\">\n",
       "  <thead>\n",
       "    <tr>\n",
       "      <th></th>\n",
       "      <th>id_user</th>\n",
       "      <th>id_wisata</th>\n",
       "      <th>rating</th>\n",
       "    </tr>\n",
       "  </thead>\n",
       "  <tbody>\n",
       "    <tr>\n",
       "      <th>0</th>\n",
       "      <td>1</td>\n",
       "      <td>101</td>\n",
       "      <td>4.0</td>\n",
       "    </tr>\n",
       "    <tr>\n",
       "      <th>1</th>\n",
       "      <td>2</td>\n",
       "      <td>101</td>\n",
       "      <td>5.0</td>\n",
       "    </tr>\n",
       "    <tr>\n",
       "      <th>2</th>\n",
       "      <td>2</td>\n",
       "      <td>102</td>\n",
       "      <td>5.0</td>\n",
       "    </tr>\n",
       "    <tr>\n",
       "      <th>3</th>\n",
       "      <td>1</td>\n",
       "      <td>102</td>\n",
       "      <td>4.4</td>\n",
       "    </tr>\n",
       "    <tr>\n",
       "      <th>4</th>\n",
       "      <td>1</td>\n",
       "      <td>101</td>\n",
       "      <td>5.0</td>\n",
       "    </tr>\n",
       "  </tbody>\n",
       "</table>\n",
       "</div>"
      ],
      "text/plain": [
       "  id_user id_wisata rating\n",
       "0       1       101    4.0\n",
       "1       2       101    5.0\n",
       "2       2       102    5.0\n",
       "3       1       102    4.4\n",
       "4       1       101    5.0"
      ]
     },
     "execution_count": 55,
     "metadata": {},
     "output_type": "execute_result"
    }
   ],
   "source": [
    "import pandas as pd\n",
    "import numpy as np\n",
    "import warnings\n",
    "warnings.filterwarnings('ignore')\n",
    "# from function import *\n",
    "\n",
    "import mysql.connector\n",
    "from mysql.connector import Error\n",
    "\n",
    "try:\n",
    "    connection = mysql.connector.connect(host=\"127.0.0.1\",\n",
    "                                          port=3306,\n",
    "                                          user='root',\n",
    "                                          # password='f#Ur8J3N',\n",
    "                                          database='tour_in')\n",
    "    if connection.is_connected():\n",
    "        # db_Info = connection.get_server_info()\n",
    "        # print(\"Connected to MySQL Server version \", db_Info)\n",
    "        cursor = connection.cursor()\n",
    "        cursor.execute(\"SELECT * FROM rating_fe;\")\n",
    "        record = cursor.fetchone()\n",
    "        raw_rating_fe = pd.read_sql_query(record, connection)  \n",
    "        # rating_fe=raw_rating_fe[['kode_user','kode_wisata','rate_value']]\n",
    "        # rating=rating_fe.columns = ['id_user','id_wisata', 'rating']\n",
    "        print(\"query sukses\")\n",
    "\n",
    "except Error as e:\n",
    "    print(\"Error while connecting to MySQL\", e)\n",
    "finally:\n",
    "    if connection.is_connected():\n",
    "        cursor.close()\n",
    "        connection.close()\n",
    "        print(\"MySQL connection is closed\")\n",
    "\n",
    "# my_conn = mysql.connector.connect(host=\"127.0.0.1\",\n",
    "#                                   port=3306,\n",
    "#                                   user='root',\n",
    "#                                   # password='f#Ur8J3N',\n",
    "#                                   database='tour_in')\n",
    "# table_rating_fe= \"\"\"\n",
    "# SELECT * FROM rating_fe;\n",
    "# \"\"\"\n",
    "\n",
    "rating=raw_rating_fe.copy()\n",
    "rating_fe=raw_rating_fe[['kode_user','kode_wisata','rate_value']]\n",
    "rating_fe.columns = [['id_user','id_wisata', 'rating']]\n",
    "rating_fe.head()"
   ]
  },
  {
   "cell_type": "code",
   "execution_count": 57,
   "id": "10b60814-b0fa-46d5-b269-4dcaa21a9036",
   "metadata": {},
   "outputs": [
    {
     "name": "stdout",
     "output_type": "stream",
     "text": [
      "Connected to MySQL Server version  5.5.5-10.4.25-MariaDB\n",
      "Error while connecting to MySQL Unread result found\n"
     ]
    },
    {
     "data": {
      "text/html": [
       "<div>\n",
       "<style scoped>\n",
       "    .dataframe tbody tr th:only-of-type {\n",
       "        vertical-align: middle;\n",
       "    }\n",
       "\n",
       "    .dataframe tbody tr th {\n",
       "        vertical-align: top;\n",
       "    }\n",
       "\n",
       "    .dataframe thead th {\n",
       "        text-align: right;\n",
       "    }\n",
       "</style>\n",
       "<table border=\"1\" class=\"dataframe\">\n",
       "  <thead>\n",
       "    <tr style=\"text-align: right;\">\n",
       "      <th></th>\n",
       "      <th>id</th>\n",
       "      <th>place_name</th>\n",
       "    </tr>\n",
       "  </thead>\n",
       "  <tbody>\n",
       "    <tr>\n",
       "      <th>0</th>\n",
       "      <td>101</td>\n",
       "      <td>Danau Toba</td>\n",
       "    </tr>\n",
       "    <tr>\n",
       "      <th>1</th>\n",
       "      <td>102</td>\n",
       "      <td>Pantai Tanjung Kelayang</td>\n",
       "    </tr>\n",
       "    <tr>\n",
       "      <th>2</th>\n",
       "      <td>103</td>\n",
       "      <td>Pantai Tanjung Lesung</td>\n",
       "    </tr>\n",
       "    <tr>\n",
       "      <th>3</th>\n",
       "      <td>104</td>\n",
       "      <td>Pulau Seribu</td>\n",
       "    </tr>\n",
       "    <tr>\n",
       "      <th>4</th>\n",
       "      <td>105</td>\n",
       "      <td>Candi Borobudur</td>\n",
       "    </tr>\n",
       "  </tbody>\n",
       "</table>\n",
       "</div>"
      ],
      "text/plain": [
       "    id               place_name\n",
       "0  101               Danau Toba\n",
       "1  102  Pantai Tanjung Kelayang\n",
       "2  103    Pantai Tanjung Lesung\n",
       "3  104             Pulau Seribu\n",
       "4  105          Candi Borobudur"
      ]
     },
     "execution_count": 57,
     "metadata": {},
     "output_type": "execute_result"
    }
   ],
   "source": [
    "import mysql.connector\n",
    "from mysql.connector import Error\n",
    "\n",
    "try:\n",
    "    connection = mysql.connector.connect(host=\"127.0.0.1\",\n",
    "                                          port=3306,\n",
    "                                          user='root',\n",
    "                                          # password='f#Ur8J3N',\n",
    "                                          database='tour_in')\n",
    "    if connection.is_connected():\n",
    "        db_Info = connection.get_server_info()\n",
    "        print(\"Connected to MySQL Server version \", db_Info)\n",
    "        cursor = connection.cursor()\n",
    "        cursor.execute(\"SELECT * FROM LIST_WISATA;\")\n",
    "        record = cursor.fetchone()\n",
    "        raw_list_wisata = pd.read_sql_query(record, connection)\n",
    "        #raw_list_wisata[['id_wisata','wisata']]\n",
    "        #place=raw_list_wisata.columns = ['id','place_name']\n",
    "        print(\"query sukses\")\n",
    "\n",
    "except Error as e:\n",
    "    print(\"Error while connecting to MySQL\", e)\n",
    "finally:\n",
    "    if connection.is_connected():\n",
    "        cursor.close()\n",
    "        connection.close()\n",
    "        print(\"MySQL connection is closed\")\n",
    "\n",
    "list_wisata=raw_list_wisata.copy()\n",
    "place=list_wisata[['id_wisata','wisata']]\n",
    "place.columns = ['id','place_name']\n",
    "place.head()"
   ]
  },
  {
   "cell_type": "code",
   "execution_count": 118,
   "id": "5117b9be-a9ac-4eb2-9eb4-3d99a1e1a81c",
   "metadata": {},
   "outputs": [],
   "source": [
    "def get_DataRating():\n",
    "    my_conn = mysql.connector.connect(host=\"127.0.0.1\",\n",
    "                                        port=3306,\n",
    "                                        user='root',\n",
    "                                        # password='f#Ur8J3N',\n",
    "                                        database='tour_in')\n",
    "    query_insert=\"\"\"\n",
    "    SELECT * FROM rating_fe;\n",
    "    \"\"\"\n",
    "    raw_rating_fe = pd.read_sql_query(query_insert, my_conn)\n",
    "    return raw_rating_fe"
   ]
  },
  {
   "cell_type": "code",
   "execution_count": 180,
   "id": "f931c6fd-7559-4407-8c9d-89c2838209d4",
   "metadata": {},
   "outputs": [],
   "source": [
    "ranting_fe=get_DataRating().copy()\n",
    "rating=ranting_fe[['kode_user','kode_wisata','rate_value']]\n",
    "rating.columns = [['id_user','id_wisata', 'rating']]\n",
    "rating.to_csv('Dataset/rating_fe.csv', index=False)"
   ]
  },
  {
   "cell_type": "code",
   "execution_count": 120,
   "id": "59f3f91b-a8a4-404f-8537-8490c84077b2",
   "metadata": {},
   "outputs": [],
   "source": [
    "def get_DataListWisata():\n",
    "    my_conn = mysql.connector.connect(host=\"127.0.0.1\",\n",
    "                                        port=3306,\n",
    "                                        user='root',\n",
    "                                        # password='f#Ur8J3N',\n",
    "                                        database='tour_in')\n",
    "    query_insert=\"\"\"\n",
    "    SELECT * FROM list_wisata;\n",
    "    \"\"\"\n",
    "    raw_list_wisata = pd.read_sql_query(query_insert, my_conn)\n",
    "    return raw_list_wisata"
   ]
  },
  {
   "cell_type": "code",
   "execution_count": 121,
   "id": "2cc9e59b-b604-4e58-81a1-fc027b095de9",
   "metadata": {},
   "outputs": [],
   "source": [
    "list_wisata=get_DataListWisata().copy()\n",
    "place=list_wisata[['id_wisata','wisata']]\n",
    "place.columns = ['id','place_name']\n",
    "place.to_csv('Dataset/list_wisata_db.csv', index=False)"
   ]
  },
  {
   "cell_type": "code",
   "execution_count": 171,
   "id": "68a2994a-b8d3-4597-9c64-a46cc099f126",
   "metadata": {},
   "outputs": [],
   "source": [
    "rating = pd.read_csv('Dataset/rating_fe.csv')\n",
    "place = pd.read_csv('Dataset/list_wisata_db.csv')"
   ]
  },
  {
   "cell_type": "code",
   "execution_count": 123,
   "id": "84dbae88-34d7-4919-b655-1d52390285bc",
   "metadata": {},
   "outputs": [
    {
     "data": {
      "text/plain": [
       "array([1, 2], dtype=int64)"
      ]
     },
     "execution_count": 123,
     "metadata": {},
     "output_type": "execute_result"
    }
   ],
   "source": [
    "rating['id_user'].unique()"
   ]
  },
  {
   "cell_type": "code",
   "execution_count": 124,
   "id": "9a930937-526c-4c5c-8764-d0226885bf1b",
   "metadata": {},
   "outputs": [
    {
     "data": {
      "text/plain": [
       "array([101, 102, 103, 104, 105, 106, 107, 108, 109, 110], dtype=int64)"
      ]
     },
     "execution_count": 124,
     "metadata": {},
     "output_type": "execute_result"
    }
   ],
   "source": [
    "place['id'].unique()"
   ]
  },
  {
   "cell_type": "code",
   "execution_count": 109,
   "id": "039bf509-8f00-408f-b541-a6b1fdf2e1c2",
   "metadata": {},
   "outputs": [],
   "source": [
    "df=rating.copy()"
   ]
  },
  {
   "cell_type": "code",
   "execution_count": 115,
   "id": "d4e7059c-fa21-45d3-af8c-97b79d04f940",
   "metadata": {},
   "outputs": [],
   "source": [
    "import tensorflow as tf\n",
    "from tensorflow import keras\n",
    "from tensorflow.keras import layers\n",
    "\n",
    "\n",
    "# Membuat Class fungsi Model\n",
    "class RecommenderNet(tf.keras.Model):\n",
    "    # Insialisasi fungsi\n",
    "    def __init__(self, num_users, num_places, embedding_size=16, **kwargs):\n",
    "        super(RecommenderNet, self).__init__(**kwargs)\n",
    "        num_users += 100\n",
    "        self.num_users = num_users\n",
    "        self.num_places = num_places\n",
    "        self.embedding_size = embedding_size\n",
    "        self.user_embedding = layers.Embedding( # layer embedding user\n",
    "            num_users,\n",
    "            embedding_size,\n",
    "            embeddings_initializer = 'he_normal',\n",
    "            embeddings_regularizer = keras.regularizers.l2(1e-6)\n",
    "        )\n",
    "        self.user_bias = layers.Embedding(num_users, 1) # layer embedding user bias\n",
    "        self.places_embedding = layers.Embedding( # layer embeddings places\n",
    "            num_places,\n",
    "            embedding_size,\n",
    "            embeddings_initializer = 'he_normal',\n",
    "            embeddings_regularizer = keras.regularizers.l2(1e-6)\n",
    "        )\n",
    "        self.places_bias = layers.Embedding(num_places, 1) # layer embedding places bias\n",
    " \n",
    "    def call(self, inputs):\n",
    "        user_vector = self.user_embedding(inputs[:,0]) # memanggil layer embedding 1\n",
    "        user_bias = self.user_bias(inputs[:, 0]) # memanggil layer embedding 2\n",
    "        places_vector = self.places_embedding(inputs[:, 1]) # memanggil layer embedding 3\n",
    "        places_bias = self.places_bias(inputs[:, 1]) # memanggil layer embedding 4\n",
    " \n",
    "        dot_user_places = tf.tensordot(user_vector, places_vector, 2) \n",
    " \n",
    "        x = dot_user_places + user_bias + places_bias\n",
    "    \n",
    "        return tf.nn.sigmoid(x) # activation sigmoid\n",
    "    \n",
    "    def get_config(self):\n",
    "        return {\n",
    "            \"num_users\": self.num_users,\n",
    "            \"num_places\": self.num_places,\n",
    "            \"embedding_size\": self.embedding_size,\n",
    "        }\n",
    "    @classmethod\n",
    "    def from_config(cls, config):\n",
    "        return cls(**config)"
   ]
  },
  {
   "cell_type": "code",
   "execution_count": 116,
   "id": "f98467d4-f4f6-4dcb-935b-2826e3317cd1",
   "metadata": {},
   "outputs": [],
   "source": [
    "def dict_encoder(col, data=df):\n",
    "        # Mengubah kolom suatu dataframe menjadi list tanpa nilai yang sama\n",
    "        unique_val = data[col].unique().tolist()\n",
    "\n",
    "        # Melakukan encoding value kolom suatu dataframe ke angka\n",
    "        val_to_val_encoded = {x: i for i, x in enumerate(unique_val)}\n",
    "    \n",
    "        # Melakukan proses encoding angka ke value dari kolom suatu dataframe\n",
    "        val_encoded_to_val = {i: x for i, x in enumerate(unique_val)}    \n",
    "        return val_to_val_encoded, val_encoded_to_val\n",
    "        #Encoding dan Mapping Kolom User\n",
    "def training():  \n",
    "    # Encoding User_Id\n",
    "    user_to_user_encoded, user_encoded_to_user = dict_encoder('id_user')\n",
    "\n",
    "    # Mapping User_Id ke dataframe\n",
    "    df['user'] = df['id_user'].map(user_to_user_encoded)\n",
    "\n",
    "    # Encoding dan Mapping Kolom Place\n",
    "\n",
    "    # Encoding Place_Id\n",
    "    place_to_place_encoded, place_encoded_to_place = dict_encoder('id_wisata')\n",
    "\n",
    "    # Mapping Place_Id ke dataframe place\n",
    "    df['place'] = df['id_wisata'].map(place_to_place_encoded)\n",
    "\n",
    "    #setting parameters for model\n",
    "    num_users, num_place = len(user_to_user_encoded), len(place_to_place_encoded)\n",
    "    \n",
    "    # Mengubah rating menjadi nilai float\n",
    "    df['rating'] = df['rating'].values.astype(np.float32)\n",
    "    \n",
    "    # Mendapatkan nilai minimum dan maksimum rating\n",
    "    min_rating, max_rating = min(df['rating']), max(df['rating'])\n",
    "    \n",
    "    # Membuat variabel x untuk mencocokkan data user dan place menjadi satu value\n",
    "    x = df[['user', 'place']].values\n",
    "    \n",
    "    # Membuat variabel y untuk membuat rating dari hasil \n",
    "    y = df['rating'].apply(lambda x: (x - min_rating) / (max_rating - min_rating)).values\n",
    "    \n",
    "    # Membagi menjadi 80% data train dan 20% data validasi\n",
    "    train_indices = int(0.8 * df.shape[0])\n",
    "    x_train, x_val, y_train, y_val = (\n",
    "        x[:train_indices],\n",
    "        x[train_indices:],\n",
    "        y[:train_indices],\n",
    "        y[train_indices:]\n",
    "    )\n",
    "    model = RecommenderNet(num_users, num_place) # inisialisasi model\n",
    "    \n",
    "    # model compile\n",
    "    model.compile(\n",
    "        loss = tf.keras.losses.BinaryCrossentropy(),\n",
    "        optimizer = keras.optimizers.Adam(learning_rate=0.001),\n",
    "        metrics=[tf.keras.metrics.RootMeanSquaredError()]\n",
    "    )\n",
    "            \n",
    "    # Training Model\n",
    "    history = model.fit(x = x_train,\n",
    "                        y = y_train,\n",
    "                        batch_size=16,\n",
    "                        epochs = 50,\n",
    "                        verbose=1,\n",
    "                        validation_data = (x_val, y_val)\n",
    "                       )\n",
    "\n",
    "    #save model\n",
    "    model.save_weights('model_checkpoint/model_weights', save_format='tf')\n",
    "    return \"Training Sukses\""
   ]
  },
  {
   "cell_type": "code",
   "execution_count": 117,
   "id": "09b8c72a-c61b-4576-a758-31c4aba00c54",
   "metadata": {
    "scrolled": true,
    "tags": []
   },
   "outputs": [
    {
     "name": "stdout",
     "output_type": "stream",
     "text": [
      "Epoch 1/50\n",
      "1/1 [==============================] - 2s 2s/step - loss: 0.8541 - root_mean_squared_error: 0.4459 - val_loss: 0.9725 - val_root_mean_squared_error: 0.5296\n",
      "Epoch 2/50\n",
      "1/1 [==============================] - 0s 39ms/step - loss: 0.8300 - root_mean_squared_error: 0.4399 - val_loss: 0.9617 - val_root_mean_squared_error: 0.5258\n",
      "Epoch 3/50\n",
      "1/1 [==============================] - 0s 39ms/step - loss: 0.8071 - root_mean_squared_error: 0.4338 - val_loss: 0.9512 - val_root_mean_squared_error: 0.5220\n",
      "Epoch 4/50\n",
      "1/1 [==============================] - 0s 45ms/step - loss: 0.7855 - root_mean_squared_error: 0.4274 - val_loss: 0.9410 - val_root_mean_squared_error: 0.5181\n",
      "Epoch 5/50\n",
      "1/1 [==============================] - 0s 48ms/step - loss: 0.7653 - root_mean_squared_error: 0.4209 - val_loss: 0.9309 - val_root_mean_squared_error: 0.5143\n",
      "Epoch 6/50\n",
      "1/1 [==============================] - 0s 46ms/step - loss: 0.7466 - root_mean_squared_error: 0.4144 - val_loss: 0.9212 - val_root_mean_squared_error: 0.5105\n",
      "Epoch 7/50\n",
      "1/1 [==============================] - 0s 46ms/step - loss: 0.7295 - root_mean_squared_error: 0.4080 - val_loss: 0.9119 - val_root_mean_squared_error: 0.5068\n",
      "Epoch 8/50\n",
      "1/1 [==============================] - 0s 45ms/step - loss: 0.7140 - root_mean_squared_error: 0.4018 - val_loss: 0.9028 - val_root_mean_squared_error: 0.5031\n",
      "Epoch 9/50\n",
      "1/1 [==============================] - 0s 51ms/step - loss: 0.7004 - root_mean_squared_error: 0.3958 - val_loss: 0.8942 - val_root_mean_squared_error: 0.4995\n",
      "Epoch 10/50\n",
      "1/1 [==============================] - 0s 43ms/step - loss: 0.6886 - root_mean_squared_error: 0.3904 - val_loss: 0.8859 - val_root_mean_squared_error: 0.4961\n",
      "Epoch 11/50\n",
      "1/1 [==============================] - 0s 52ms/step - loss: 0.6786 - root_mean_squared_error: 0.3855 - val_loss: 0.8780 - val_root_mean_squared_error: 0.4927\n",
      "Epoch 12/50\n",
      "1/1 [==============================] - 0s 77ms/step - loss: 0.6705 - root_mean_squared_error: 0.3812 - val_loss: 0.8705 - val_root_mean_squared_error: 0.4894\n",
      "Epoch 13/50\n",
      "1/1 [==============================] - 0s 52ms/step - loss: 0.6642 - root_mean_squared_error: 0.3778 - val_loss: 0.8635 - val_root_mean_squared_error: 0.4863\n",
      "Epoch 14/50\n",
      "1/1 [==============================] - 0s 49ms/step - loss: 0.6596 - root_mean_squared_error: 0.3752 - val_loss: 0.8569 - val_root_mean_squared_error: 0.4834\n",
      "Epoch 15/50\n",
      "1/1 [==============================] - 0s 54ms/step - loss: 0.6566 - root_mean_squared_error: 0.3734 - val_loss: 0.8509 - val_root_mean_squared_error: 0.4807\n",
      "Epoch 16/50\n",
      "1/1 [==============================] - 0s 49ms/step - loss: 0.6550 - root_mean_squared_error: 0.3724 - val_loss: 0.8454 - val_root_mean_squared_error: 0.4782\n",
      "Epoch 17/50\n",
      "1/1 [==============================] - 0s 39ms/step - loss: 0.6545 - root_mean_squared_error: 0.3721 - val_loss: 0.8405 - val_root_mean_squared_error: 0.4759\n",
      "Epoch 18/50\n",
      "1/1 [==============================] - 0s 46ms/step - loss: 0.6550 - root_mean_squared_error: 0.3724 - val_loss: 0.8361 - val_root_mean_squared_error: 0.4738\n",
      "Epoch 19/50\n",
      "1/1 [==============================] - 0s 41ms/step - loss: 0.6561 - root_mean_squared_error: 0.3731 - val_loss: 0.8323 - val_root_mean_squared_error: 0.4720\n",
      "Epoch 20/50\n",
      "1/1 [==============================] - 0s 51ms/step - loss: 0.6576 - root_mean_squared_error: 0.3740 - val_loss: 0.8291 - val_root_mean_squared_error: 0.4705\n",
      "Epoch 21/50\n",
      "1/1 [==============================] - 0s 47ms/step - loss: 0.6593 - root_mean_squared_error: 0.3751 - val_loss: 0.8264 - val_root_mean_squared_error: 0.4692\n",
      "Epoch 22/50\n",
      "1/1 [==============================] - 0s 53ms/step - loss: 0.6608 - root_mean_squared_error: 0.3761 - val_loss: 0.8243 - val_root_mean_squared_error: 0.4682\n",
      "Epoch 23/50\n",
      "1/1 [==============================] - 0s 135ms/step - loss: 0.6621 - root_mean_squared_error: 0.3769 - val_loss: 0.8227 - val_root_mean_squared_error: 0.4674\n",
      "Epoch 24/50\n",
      "1/1 [==============================] - 0s 47ms/step - loss: 0.6631 - root_mean_squared_error: 0.3775 - val_loss: 0.8217 - val_root_mean_squared_error: 0.4669\n",
      "Epoch 25/50\n",
      "1/1 [==============================] - 0s 42ms/step - loss: 0.6636 - root_mean_squared_error: 0.3779 - val_loss: 0.8211 - val_root_mean_squared_error: 0.4667\n",
      "Epoch 26/50\n",
      "1/1 [==============================] - 0s 41ms/step - loss: 0.6637 - root_mean_squared_error: 0.3779 - val_loss: 0.8210 - val_root_mean_squared_error: 0.4666\n",
      "Epoch 27/50\n",
      "1/1 [==============================] - 0s 47ms/step - loss: 0.6633 - root_mean_squared_error: 0.3777 - val_loss: 0.8213 - val_root_mean_squared_error: 0.4667\n",
      "Epoch 28/50\n",
      "1/1 [==============================] - 0s 46ms/step - loss: 0.6626 - root_mean_squared_error: 0.3772 - val_loss: 0.8219 - val_root_mean_squared_error: 0.4670\n",
      "Epoch 29/50\n",
      "1/1 [==============================] - 0s 47ms/step - loss: 0.6617 - root_mean_squared_error: 0.3766 - val_loss: 0.8228 - val_root_mean_squared_error: 0.4675\n",
      "Epoch 30/50\n",
      "1/1 [==============================] - 0s 49ms/step - loss: 0.6605 - root_mean_squared_error: 0.3759 - val_loss: 0.8240 - val_root_mean_squared_error: 0.4681\n",
      "Epoch 31/50\n",
      "1/1 [==============================] - 0s 46ms/step - loss: 0.6593 - root_mean_squared_error: 0.3751 - val_loss: 0.8254 - val_root_mean_squared_error: 0.4688\n",
      "Epoch 32/50\n",
      "1/1 [==============================] - 0s 43ms/step - loss: 0.6580 - root_mean_squared_error: 0.3743 - val_loss: 0.8270 - val_root_mean_squared_error: 0.4695\n",
      "Epoch 33/50\n",
      "1/1 [==============================] - 0s 51ms/step - loss: 0.6568 - root_mean_squared_error: 0.3735 - val_loss: 0.8287 - val_root_mean_squared_error: 0.4703\n",
      "Epoch 34/50\n",
      "1/1 [==============================] - 0s 50ms/step - loss: 0.6558 - root_mean_squared_error: 0.3728 - val_loss: 0.8304 - val_root_mean_squared_error: 0.4712\n",
      "Epoch 35/50\n",
      "1/1 [==============================] - 0s 49ms/step - loss: 0.6549 - root_mean_squared_error: 0.3723 - val_loss: 0.8322 - val_root_mean_squared_error: 0.4720\n",
      "Epoch 36/50\n",
      "1/1 [==============================] - 0s 51ms/step - loss: 0.6541 - root_mean_squared_error: 0.3718 - val_loss: 0.8339 - val_root_mean_squared_error: 0.4728\n",
      "Epoch 37/50\n",
      "1/1 [==============================] - 0s 73ms/step - loss: 0.6536 - root_mean_squared_error: 0.3715 - val_loss: 0.8355 - val_root_mean_squared_error: 0.4736\n",
      "Epoch 38/50\n",
      "1/1 [==============================] - 0s 50ms/step - loss: 0.6533 - root_mean_squared_error: 0.3713 - val_loss: 0.8371 - val_root_mean_squared_error: 0.4743\n",
      "Epoch 39/50\n",
      "1/1 [==============================] - 0s 50ms/step - loss: 0.6531 - root_mean_squared_error: 0.3712 - val_loss: 0.8385 - val_root_mean_squared_error: 0.4749\n",
      "Epoch 40/50\n",
      "1/1 [==============================] - 0s 55ms/step - loss: 0.6530 - root_mean_squared_error: 0.3712 - val_loss: 0.8397 - val_root_mean_squared_error: 0.4755\n",
      "Epoch 41/50\n",
      "1/1 [==============================] - 0s 47ms/step - loss: 0.6531 - root_mean_squared_error: 0.3712 - val_loss: 0.8407 - val_root_mean_squared_error: 0.4760\n",
      "Epoch 42/50\n",
      "1/1 [==============================] - 0s 50ms/step - loss: 0.6532 - root_mean_squared_error: 0.3713 - val_loss: 0.8415 - val_root_mean_squared_error: 0.4764\n",
      "Epoch 43/50\n",
      "1/1 [==============================] - 0s 42ms/step - loss: 0.6533 - root_mean_squared_error: 0.3714 - val_loss: 0.8422 - val_root_mean_squared_error: 0.4767\n",
      "Epoch 44/50\n",
      "1/1 [==============================] - 0s 53ms/step - loss: 0.6535 - root_mean_squared_error: 0.3715 - val_loss: 0.8425 - val_root_mean_squared_error: 0.4769\n",
      "Epoch 45/50\n",
      "1/1 [==============================] - 0s 51ms/step - loss: 0.6536 - root_mean_squared_error: 0.3715 - val_loss: 0.8427 - val_root_mean_squared_error: 0.4769\n",
      "Epoch 46/50\n",
      "1/1 [==============================] - 0s 50ms/step - loss: 0.6536 - root_mean_squared_error: 0.3716 - val_loss: 0.8427 - val_root_mean_squared_error: 0.4769\n",
      "Epoch 47/50\n",
      "1/1 [==============================] - 0s 45ms/step - loss: 0.6536 - root_mean_squared_error: 0.3716 - val_loss: 0.8424 - val_root_mean_squared_error: 0.4768\n",
      "Epoch 48/50\n",
      "1/1 [==============================] - 0s 50ms/step - loss: 0.6536 - root_mean_squared_error: 0.3715 - val_loss: 0.8420 - val_root_mean_squared_error: 0.4766\n",
      "Epoch 49/50\n",
      "1/1 [==============================] - 0s 51ms/step - loss: 0.6535 - root_mean_squared_error: 0.3715 - val_loss: 0.8414 - val_root_mean_squared_error: 0.4763\n",
      "Epoch 50/50\n",
      "1/1 [==============================] - 0s 56ms/step - loss: 0.6533 - root_mean_squared_error: 0.3714 - val_loss: 0.8407 - val_root_mean_squared_error: 0.4760\n"
     ]
    },
    {
     "data": {
      "text/plain": [
       "'Training Sukses'"
      ]
     },
     "execution_count": 117,
     "metadata": {},
     "output_type": "execute_result"
    }
   ],
   "source": [
    "from RecommendationModel import RecommenderNet\n",
    "training()"
   ]
  },
  {
   "cell_type": "code",
   "execution_count": 181,
   "id": "61c5053a-aaa7-4b98-aae2-a61a0b6f0ce8",
   "metadata": {},
   "outputs": [
    {
     "data": {
      "text/html": [
       "<div>\n",
       "<style scoped>\n",
       "    .dataframe tbody tr th:only-of-type {\n",
       "        vertical-align: middle;\n",
       "    }\n",
       "\n",
       "    .dataframe tbody tr th {\n",
       "        vertical-align: top;\n",
       "    }\n",
       "\n",
       "    .dataframe thead th {\n",
       "        text-align: right;\n",
       "    }\n",
       "</style>\n",
       "<table border=\"1\" class=\"dataframe\">\n",
       "  <thead>\n",
       "    <tr style=\"text-align: right;\">\n",
       "      <th></th>\n",
       "      <th>id_rate</th>\n",
       "      <th>kode_user</th>\n",
       "      <th>kode_wisata</th>\n",
       "      <th>rate_value</th>\n",
       "      <th>time</th>\n",
       "    </tr>\n",
       "  </thead>\n",
       "  <tbody>\n",
       "    <tr>\n",
       "      <th>0</th>\n",
       "      <td>212</td>\n",
       "      <td>1</td>\n",
       "      <td>101</td>\n",
       "      <td>4.0</td>\n",
       "      <td>2022-10-18 08:25:39</td>\n",
       "    </tr>\n",
       "    <tr>\n",
       "      <th>1</th>\n",
       "      <td>213</td>\n",
       "      <td>2</td>\n",
       "      <td>101</td>\n",
       "      <td>5.0</td>\n",
       "      <td>2022-10-18 08:25:39</td>\n",
       "    </tr>\n",
       "    <tr>\n",
       "      <th>2</th>\n",
       "      <td>214</td>\n",
       "      <td>2</td>\n",
       "      <td>102</td>\n",
       "      <td>5.0</td>\n",
       "      <td>2022-10-18 13:30:01</td>\n",
       "    </tr>\n",
       "    <tr>\n",
       "      <th>3</th>\n",
       "      <td>215</td>\n",
       "      <td>1</td>\n",
       "      <td>102</td>\n",
       "      <td>4.4</td>\n",
       "      <td>2022-10-18 13:30:01</td>\n",
       "    </tr>\n",
       "    <tr>\n",
       "      <th>4</th>\n",
       "      <td>216</td>\n",
       "      <td>1</td>\n",
       "      <td>101</td>\n",
       "      <td>5.0</td>\n",
       "      <td>2022-10-18 13:47:58</td>\n",
       "    </tr>\n",
       "  </tbody>\n",
       "</table>\n",
       "</div>"
      ],
      "text/plain": [
       "   id_rate  kode_user  kode_wisata  rate_value                time\n",
       "0      212          1          101         4.0 2022-10-18 08:25:39\n",
       "1      213          2          101         5.0 2022-10-18 08:25:39\n",
       "2      214          2          102         5.0 2022-10-18 13:30:01\n",
       "3      215          1          102         4.4 2022-10-18 13:30:01\n",
       "4      216          1          101         5.0 2022-10-18 13:47:58"
      ]
     },
     "execution_count": 181,
     "metadata": {},
     "output_type": "execute_result"
    }
   ],
   "source": [
    "ranting_fe.head()"
   ]
  },
  {
   "cell_type": "code",
   "execution_count": 182,
   "id": "6a657fa2-653e-4399-b4ef-4439a34a667a",
   "metadata": {},
   "outputs": [],
   "source": [
    "ranting_fe.set_index(\"time\", inplace=True)"
   ]
  },
  {
   "cell_type": "code",
   "execution_count": 184,
   "id": "b4346481-c2dc-4c69-8f55-b1eed7fde595",
   "metadata": {},
   "outputs": [
    {
     "data": {
      "text/html": [
       "<div>\n",
       "<style scoped>\n",
       "    .dataframe tbody tr th:only-of-type {\n",
       "        vertical-align: middle;\n",
       "    }\n",
       "\n",
       "    .dataframe tbody tr th {\n",
       "        vertical-align: top;\n",
       "    }\n",
       "\n",
       "    .dataframe thead th {\n",
       "        text-align: right;\n",
       "    }\n",
       "</style>\n",
       "<table border=\"1\" class=\"dataframe\">\n",
       "  <thead>\n",
       "    <tr style=\"text-align: right;\">\n",
       "      <th></th>\n",
       "      <th>id_rate</th>\n",
       "      <th>kode_user</th>\n",
       "      <th>kode_wisata</th>\n",
       "      <th>rate_value</th>\n",
       "    </tr>\n",
       "    <tr>\n",
       "      <th>time</th>\n",
       "      <th></th>\n",
       "      <th></th>\n",
       "      <th></th>\n",
       "      <th></th>\n",
       "    </tr>\n",
       "  </thead>\n",
       "  <tbody>\n",
       "    <tr>\n",
       "      <th>2022-10-18 08:25:39</th>\n",
       "      <td>212</td>\n",
       "      <td>1</td>\n",
       "      <td>101</td>\n",
       "      <td>4.0</td>\n",
       "    </tr>\n",
       "    <tr>\n",
       "      <th>2022-10-18 08:25:39</th>\n",
       "      <td>213</td>\n",
       "      <td>2</td>\n",
       "      <td>101</td>\n",
       "      <td>5.0</td>\n",
       "    </tr>\n",
       "    <tr>\n",
       "      <th>2022-10-18 13:30:01</th>\n",
       "      <td>214</td>\n",
       "      <td>2</td>\n",
       "      <td>102</td>\n",
       "      <td>5.0</td>\n",
       "    </tr>\n",
       "    <tr>\n",
       "      <th>2022-10-18 13:30:01</th>\n",
       "      <td>215</td>\n",
       "      <td>1</td>\n",
       "      <td>102</td>\n",
       "      <td>4.4</td>\n",
       "    </tr>\n",
       "    <tr>\n",
       "      <th>2022-10-18 13:47:58</th>\n",
       "      <td>216</td>\n",
       "      <td>1</td>\n",
       "      <td>101</td>\n",
       "      <td>5.0</td>\n",
       "    </tr>\n",
       "  </tbody>\n",
       "</table>\n",
       "</div>"
      ],
      "text/plain": [
       "                     id_rate  kode_user  kode_wisata  rate_value\n",
       "time                                                            \n",
       "2022-10-18 08:25:39      212          1          101         4.0\n",
       "2022-10-18 08:25:39      213          2          101         5.0\n",
       "2022-10-18 13:30:01      214          2          102         5.0\n",
       "2022-10-18 13:30:01      215          1          102         4.4\n",
       "2022-10-18 13:47:58      216          1          101         5.0"
      ]
     },
     "execution_count": 184,
     "metadata": {},
     "output_type": "execute_result"
    }
   ],
   "source": [
    "ranting_fe.loc['2022-10-18'].head(5)"
   ]
  },
  {
   "cell_type": "code",
   "execution_count": 143,
   "id": "c41fed78-48db-463d-96f9-875ab24e644a",
   "metadata": {},
   "outputs": [],
   "source": [
    "from datetime import date, timedelta\n",
    "\n",
    "yesterday = date.today() - timedelta(days=1)\n",
    "yesterday=yesterday.strftime('%Y-%m-%d')"
   ]
  },
  {
   "cell_type": "code",
   "execution_count": 144,
   "id": "6068665a-65dd-47b6-9017-e1a0213d5a7f",
   "metadata": {},
   "outputs": [
    {
     "data": {
      "text/plain": [
       "'2022-10-30'"
      ]
     },
     "execution_count": 144,
     "metadata": {},
     "output_type": "execute_result"
    }
   ],
   "source": [
    "yesterday"
   ]
  },
  {
   "cell_type": "code",
   "execution_count": null,
   "id": "08f1e1c8-c9c8-4198-960d-b62dd4a69eca",
   "metadata": {},
   "outputs": [],
   "source": []
  },
  {
   "cell_type": "code",
   "execution_count": null,
   "id": "0e9b06fe-3743-48e5-b2e9-65899ea61e19",
   "metadata": {},
   "outputs": [],
   "source": []
  }
 ],
 "metadata": {
  "kernelspec": {
   "display_name": "Python 3 (ipykernel)",
   "language": "python",
   "name": "python3"
  },
  "language_info": {
   "codemirror_mode": {
    "name": "ipython",
    "version": 3
   },
   "file_extension": ".py",
   "mimetype": "text/x-python",
   "name": "python",
   "nbconvert_exporter": "python",
   "pygments_lexer": "ipython3",
   "version": "3.9.4"
  }
 },
 "nbformat": 4,
 "nbformat_minor": 5
}

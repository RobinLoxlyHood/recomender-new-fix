{
 "cells": [
  {
   "cell_type": "code",
   "execution_count": 2,
   "id": "b38c6770-5fd2-4b35-b122-5075d78c57e9",
   "metadata": {},
   "outputs": [],
   "source": [
    "import os\n",
    "import pymysql\n",
    "import mysql.connector\n",
    "import pandas as pd\n",
    "import numpy as np\n",
    "from function import *\n",
    "from datetime import date, timedelta\n",
    "import tensorflow as tf\n",
    "from tensorflow import keras\n",
    "from RecommendationModel import RecommenderNet"
   ]
  },
  {
   "cell_type": "code",
   "execution_count": 55,
   "id": "a2fa5a91-71e1-4920-b8ac-ecf937cfc438",
   "metadata": {},
   "outputs": [],
   "source": [
    "rating = pd.read_csv('Dataset/rating_fe.csv')\n",
    "place = pd.read_csv('Dataset/list_wisata_db.csv')\n",
    "df=rating.copy()\n",
    "place_df= place.copy()\n",
    "test=1020"
   ]
  },
  {
   "cell_type": "code",
   "execution_count": 56,
   "id": "ea822967-158a-46e0-be16-27b557309408",
   "metadata": {},
   "outputs": [
    {
     "data": {
      "text/plain": [
       "1020"
      ]
     },
     "execution_count": 56,
     "metadata": {},
     "output_type": "execute_result"
    }
   ],
   "source": [
    "test"
   ]
  },
  {
   "cell_type": "code",
   "execution_count": 57,
   "id": "f07980ea-2260-471c-83c1-aa68071f8776",
   "metadata": {},
   "outputs": [],
   "source": [
    "def dict_encoder(col, data=df):\n",
    "    # Mengubah kolom suatu dataframe menjadi list tanpa nilai yang sama\n",
    "    unique_val = data[col].unique().tolist()\n",
    "\n",
    "    # Melakukan encoding value kolom suatu dataframe ke angka\n",
    "    val_to_val_encoded = {x: i for i, x in enumerate(unique_val)}\n",
    "    \n",
    "    # Melakukan proses encoding angka ke value dari kolom suatu dataframe\n",
    "    val_encoded_to_val = {i: x for i, x in enumerate(unique_val)}    \n",
    "    return val_to_val_encoded, val_encoded_to_val"
   ]
  },
  {
   "cell_type": "code",
   "execution_count": 58,
   "id": "b266f5aa-249a-46e5-ab5c-4103658b3e9c",
   "metadata": {},
   "outputs": [],
   "source": [
    "# Encoding User_Id\n",
    "user_to_user_encoded, user_encoded_to_user = dict_encoder('id_user')\n",
    "\n",
    "# Mapping User_Id ke dataframe\n",
    "df['user'] = df['id_user'].map(user_to_user_encoded)\n",
    "\n",
    "# Encoding dan Mapping Kolom Place\n",
    "\n",
    "# Encoding Place_Id\n",
    "place_to_place_encoded, place_encoded_to_place = dict_encoder('id_wisata')\n",
    "\n",
    "# Mapping Place_Id ke dataframe place\n",
    "df['place'] = df['id_wisata'].map(place_to_place_encoded)\n",
    "\n",
    "#setting parameters for model\n",
    "num_users, num_place = len(user_to_user_encoded), len(place_to_place_encoded)"
   ]
  },
  {
   "cell_type": "code",
   "execution_count": 59,
   "id": "d5906278-a458-4357-9893-c6fd0c9b2915",
   "metadata": {},
   "outputs": [
    {
     "data": {
      "text/plain": [
       "<tensorflow.python.checkpoint.checkpoint.CheckpointLoadStatus at 0x165f9ab2d90>"
      ]
     },
     "execution_count": 59,
     "metadata": {},
     "output_type": "execute_result"
    }
   ],
   "source": [
    "#Loading model and saved weights\n",
    "loaded_model = RecommenderNet(num_users, num_place)\n",
    "loaded_model.compile(loss=tf.keras.losses.BinaryCrossentropy(),\n",
    "                     optimizer=keras.optimizers.Adam(learning_rate=0.001))\n",
    "loaded_model.load_weights('model_checkpoint/model_weights')"
   ]
  },
  {
   "cell_type": "code",
   "execution_count": 60,
   "id": "45991435-522f-4c6f-9ba9-f262fafde7c6",
   "metadata": {},
   "outputs": [],
   "source": [
    "place_visited_by_user = df[df.id_user == test]"
   ]
  },
  {
   "cell_type": "code",
   "execution_count": 61,
   "id": "172b07e3-a2c6-46f8-b647-634e5d73ff58",
   "metadata": {},
   "outputs": [],
   "source": [
    "# Membuat data lokasi yang belum dikunjungi user\n",
    "place_not_visited = place_df[~place_df['id'].isin(place_visited_by_user.id_wisata.values)]['id'] \n",
    "place_not_visited = list(\n",
    "    set(place_not_visited)\n",
    "    .intersection(set(place_to_place_encoded.keys()))\n",
    ")"
   ]
  },
  {
   "cell_type": "code",
   "execution_count": 62,
   "id": "29c38ea4-243d-47b1-a74b-095215de6019",
   "metadata": {},
   "outputs": [
    {
     "data": {
      "text/plain": [
       "[101, 103, 104, 106, 108, 109, 110]"
      ]
     },
     "execution_count": 62,
     "metadata": {},
     "output_type": "execute_result"
    }
   ],
   "source": [
    "place_not_visited"
   ]
  },
  {
   "cell_type": "code",
   "execution_count": null,
   "id": "07ae525a-6bd5-4b8d-ae93-1e92b8e13c8c",
   "metadata": {},
   "outputs": [],
   "source": []
  },
  {
   "cell_type": "code",
   "execution_count": 63,
   "id": "e213f842-429b-419e-a51b-669477b6c2b1",
   "metadata": {},
   "outputs": [
    {
     "ename": "TypeError",
     "evalue": "unhashable type: 'list'",
     "output_type": "error",
     "traceback": [
      "\u001b[1;31m---------------------------------------------------------------------------\u001b[0m",
      "\u001b[1;31mTypeError\u001b[0m                                 Traceback (most recent call last)",
      "Cell \u001b[1;32mIn [64], line 1\u001b[0m\n\u001b[1;32m----> 1\u001b[0m place_not_visited \u001b[38;5;241m=\u001b[39m [[place_to_place_encoded\u001b[38;5;241m.\u001b[39mget(x)] \u001b[38;5;28;01mfor\u001b[39;00m x \u001b[38;5;129;01min\u001b[39;00m place_not_visited]\n\u001b[0;32m      2\u001b[0m user_encoder \u001b[38;5;241m=\u001b[39m user_to_user_encoded\u001b[38;5;241m.\u001b[39mget(test)\n\u001b[0;32m      3\u001b[0m user_place_array \u001b[38;5;241m=\u001b[39m np\u001b[38;5;241m.\u001b[39mhstack(\n\u001b[0;32m      4\u001b[0m     ([[user_encoder]] \u001b[38;5;241m*\u001b[39m \u001b[38;5;28mlen\u001b[39m(place_not_visited), place_not_visited)\n\u001b[0;32m      5\u001b[0m )\n",
      "Cell \u001b[1;32mIn [64], line 1\u001b[0m, in \u001b[0;36m<listcomp>\u001b[1;34m(.0)\u001b[0m\n\u001b[1;32m----> 1\u001b[0m place_not_visited \u001b[38;5;241m=\u001b[39m [[\u001b[43mplace_to_place_encoded\u001b[49m\u001b[38;5;241;43m.\u001b[39;49m\u001b[43mget\u001b[49m\u001b[43m(\u001b[49m\u001b[43mx\u001b[49m\u001b[43m)\u001b[49m] \u001b[38;5;28;01mfor\u001b[39;00m x \u001b[38;5;129;01min\u001b[39;00m place_not_visited]\n\u001b[0;32m      2\u001b[0m user_encoder \u001b[38;5;241m=\u001b[39m user_to_user_encoded\u001b[38;5;241m.\u001b[39mget(test)\n\u001b[0;32m      3\u001b[0m user_place_array \u001b[38;5;241m=\u001b[39m np\u001b[38;5;241m.\u001b[39mhstack(\n\u001b[0;32m      4\u001b[0m     ([[user_encoder]] \u001b[38;5;241m*\u001b[39m \u001b[38;5;28mlen\u001b[39m(place_not_visited), place_not_visited)\n\u001b[0;32m      5\u001b[0m )\n",
      "\u001b[1;31mTypeError\u001b[0m: unhashable type: 'list'"
     ]
    }
   ],
   "source": [
    "place_not_visited = [[place_to_place_encoded.get(x)] for x in place_not_visited]\n",
    "user_encoder = user_to_user_encoded.get(user_id)\n",
    "user_place_array = np.hstack(\n",
    "    ([[user_encoder]] * len(place_not_visited), place_not_visited)\n",
    ")\n",
    "\n",
    "# Mengambil top 5 recommendation\n",
    "ratings = loaded_model.predict(user_place_array).flatten()\n",
    "top_ratings_indices = ratings.argsort()[-5:][::-1]\n",
    "recommended_place_ids = [\n",
    "    place_encoded_to_place.get(place_not_visited[x][0]) for x in top_ratings_indices\n",
    "]\n",
    "\n",
    "#get the anime_id's, so we can make a request to anilist api for more info on show\n",
    "recommended_place = place_df[place_df['id'].isin(recommended_place_ids)]"
   ]
  },
  {
   "cell_type": "code",
   "execution_count": 1,
   "id": "af2ef929-eb85-41b6-94db-e6c419e9b3ae",
   "metadata": {},
   "outputs": [],
   "source": [
    "def delete_list_rekomen(test):\n",
    "    # Connect to the database\n",
    "    connection = pymysql.connect(host=\"127.0.0.1\",\n",
    "                                 port=3306,\n",
    "                                 user='root',\n",
    "                                 # password='f#Ur8J3N',\n",
    "                                 database='tour_in')\n",
    "    # create cursor\n",
    "    cursor=connection.cursor()    \n",
    "    cursor.execute(\"DELETE FROM `list_rekomen` WHERE `kode_user` = %s\", (test))\n",
    "    connection.commit()"
   ]
  },
  {
   "cell_type": "code",
   "execution_count": 3,
   "id": "f0620d25-d970-429a-b88f-f11521de84bf",
   "metadata": {},
   "outputs": [],
   "source": [
    "test=[1014, 1020]"
   ]
  },
  {
   "cell_type": "code",
   "execution_count": 4,
   "id": "a87fbe1e-5336-4d84-92ca-a04b0bf40dff",
   "metadata": {},
   "outputs": [],
   "source": [
    "for i in test:\n",
    "    delete_list_rekomen(i)"
   ]
  },
  {
   "cell_type": "code",
   "execution_count": null,
   "id": "3621ef84-a168-44eb-820f-7429ed019d68",
   "metadata": {},
   "outputs": [],
   "source": []
  }
 ],
 "metadata": {
  "kernelspec": {
   "display_name": "rec",
   "language": "python",
   "name": "rec"
  },
  "language_info": {
   "codemirror_mode": {
    "name": "ipython",
    "version": 3
   },
   "file_extension": ".py",
   "mimetype": "text/x-python",
   "name": "python",
   "nbconvert_exporter": "python",
   "pygments_lexer": "ipython3",
   "version": "3.9.4"
  }
 },
 "nbformat": 4,
 "nbformat_minor": 5
}
